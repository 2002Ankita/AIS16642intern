{
 "cells": [
  {
   "cell_type": "code",
   "execution_count": 14,
   "id": "6d0b9628-ead5-4b3e-b330-fdddd0f33cc9",
   "metadata": {},
   "outputs": [],
   "source": [
    "#if else:\n",
    "#here if condition is true then if block will be executed otherwise else block will be executed\n",
    "#The else keyword catches anything which isn't caught by the preceding conditions.\n"
   ]
  },
  {
   "cell_type": "code",
   "execution_count": 15,
   "id": "b674a681-07f9-489a-bc3f-824c11664a59",
   "metadata": {},
   "outputs": [
    {
     "name": "stdout",
     "output_type": "stream",
     "text": [
      "b is greater no\n"
     ]
    }
   ],
   "source": [
    "a=10\n",
    "b=20\n",
    "if a>b:\n",
    "    print(\"a is greater no\")\n",
    "else:\n",
    "    print(\"b is greater no\")"
   ]
  },
  {
   "cell_type": "code",
   "execution_count": 4,
   "id": "09b7643b-1216-4119-8b4c-35178eb733f9",
   "metadata": {},
   "outputs": [
    {
     "name": "stdout",
     "output_type": "stream",
     "text": [
      "a is greater no\n"
     ]
    }
   ],
   "source": [
    "a=20\n",
    "b=15\n",
    "if a<b:\n",
    "    print(\"b is greater no\")\n",
    "else:\n",
    "    print(\"a is greater no\")"
   ]
  },
  {
   "cell_type": "code",
   "execution_count": 5,
   "id": "fb3f2344-3dd4-499b-b981-8a0519034170",
   "metadata": {},
   "outputs": [
    {
     "name": "stdout",
     "output_type": "stream",
     "text": [
      "a is not equal to b\n"
     ]
    }
   ],
   "source": [
    "a=10\n",
    "b=5\n",
    "if a==b:\n",
    "    print(\"a is equal to b\")\n",
    "else:\n",
    "    print(\"a is not equal to b\")\n",
    "    "
   ]
  },
  {
   "cell_type": "code",
   "execution_count": 6,
   "id": "dfa54951-97cb-4e5b-b9ec-025f14373730",
   "metadata": {},
   "outputs": [
    {
     "name": "stdout",
     "output_type": "stream",
     "text": [
      "a is equal to b\n"
     ]
    }
   ],
   "source": [
    "a=45\n",
    "b=45\n",
    "if a!=b:\n",
    "    print(\"a is not equal to b\")\n",
    "else:\n",
    "    print(\"a is equal to b\")"
   ]
  },
  {
   "cell_type": "code",
   "execution_count": 17,
   "id": "d7935f4a-002b-4763-a061-feffd8712469",
   "metadata": {},
   "outputs": [
    {
     "name": "stdout",
     "output_type": "stream",
     "text": [
      "a is less than or equal to b\n"
     ]
    }
   ],
   "source": [
    "a=5\n",
    "b=10\n",
    "if a>=b:\n",
    "    print(\"a is greater than or equal to b\")\n",
    "else:\n",
    "    print(\"a is less than or equal to b\")"
   ]
  },
  {
   "cell_type": "code",
   "execution_count": 8,
   "id": "b83568d0-e16e-46df-97f6-643bdf9e484f",
   "metadata": {},
   "outputs": [
    {
     "name": "stdout",
     "output_type": "stream",
     "text": [
      "a is greater than or equal to b\n"
     ]
    }
   ],
   "source": [
    "a=23\n",
    "b=20\n",
    "if a<=b:\n",
    "    print(\"a is less than or equal to b\")\n",
    "else:\n",
    "    print(\"a is greater than or equal to b\")"
   ]
  },
  {
   "cell_type": "code",
   "execution_count": 10,
   "id": "0ae0ac3d-611c-4beb-ad3d-6bc2338249e9",
   "metadata": {},
   "outputs": [
    {
     "name": "stdout",
     "output_type": "stream",
     "text": [
      "odd no\n"
     ]
    }
   ],
   "source": [
    "n=5\n",
    "if n%2==0:\n",
    "    print(\"even no\")\n",
    "else:\n",
    "    print(\"odd no\")\n",
    "    "
   ]
  },
  {
   "cell_type": "code",
   "execution_count": 11,
   "id": "99f258dd-8388-4116-af56-8af7fef1ff05",
   "metadata": {},
   "outputs": [
    {
     "name": "stdout",
     "output_type": "stream",
     "text": [
      "even no\n"
     ]
    }
   ],
   "source": [
    "n=10\n",
    "if n%2!=0:\n",
    "    print(\"odd no\")\n",
    "else:\n",
    "    print(\"even no\")"
   ]
  },
  {
   "cell_type": "code",
   "execution_count": 18,
   "id": "7809ce48-014f-4c06-bd85-10b0095f56e0",
   "metadata": {},
   "outputs": [
    {
     "name": "stdout",
     "output_type": "stream",
     "text": [
      "negative no\n"
     ]
    }
   ],
   "source": [
    "n=-2\n",
    "if n>0:\n",
    "    print (\"positive no\")\n",
    "else:\n",
    "    print(\"negative no\")"
   ]
  },
  {
   "cell_type": "code",
   "execution_count": 19,
   "id": "aec402f6-cf47-47a1-87ad-da9af31523dd",
   "metadata": {},
   "outputs": [
    {
     "name": "stdout",
     "output_type": "stream",
     "text": [
      "positive no\n"
     ]
    }
   ],
   "source": [
    "n=10\n",
    "if n<0:\n",
    "    print(\"negative no\")\n",
    "else:\n",
    "    print(\"positive no\")\n",
    "    "
   ]
  },
  {
   "cell_type": "code",
   "execution_count": null,
   "id": "cb045fb8-74bd-4794-ad36-cbfbbf14f87b",
   "metadata": {},
   "outputs": [],
   "source": []
  }
 ],
 "metadata": {
  "kernelspec": {
   "display_name": "Python 3 (ipykernel)",
   "language": "python",
   "name": "python3"
  },
  "language_info": {
   "codemirror_mode": {
    "name": "ipython",
    "version": 3
   },
   "file_extension": ".py",
   "mimetype": "text/x-python",
   "name": "python",
   "nbconvert_exporter": "python",
   "pygments_lexer": "ipython3",
   "version": "3.11.7"
  }
 },
 "nbformat": 4,
 "nbformat_minor": 5
}
