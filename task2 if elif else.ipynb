{
 "cells": [
  {
   "cell_type": "code",
   "execution_count": 1,
   "id": "45ef21dc-f15c-49a6-8f84-4cf7955fb50e",
   "metadata": {},
   "outputs": [],
   "source": [
    "#if elief else:\n",
    "#The elif keyword is Python's way of saying \"if the previous conditions were not true, then try this condition\".\n",
    "# it is used to test multiple condition.condition are tested from top to bottom ,when true condition is encountered corresponding block will be executed .\n",
    "#else block will be executed when all condition are false"
   ]
  },
  {
   "cell_type": "code",
   "execution_count": 1,
   "id": "562c5c6b-a785-4be5-98c9-23c861a323e0",
   "metadata": {},
   "outputs": [
    {
     "name": "stdout",
     "output_type": "stream",
     "text": [
      "a and b are equal\n"
     ]
    }
   ],
   "source": [
    "a = 40\n",
    "b = 40\n",
    "if b > a:\n",
    "  print(\"b is greater than a\")\n",
    "elif a == b:\n",
    "  print(\"a and b are equal\")\n",
    "else:\n",
    "    print(\"a is less than b\")"
   ]
  },
  {
   "cell_type": "code",
   "execution_count": 14,
   "id": "7be0bab2-4a7c-4699-af3d-b7a3a691be55",
   "metadata": {},
   "outputs": [
    {
     "name": "stdout",
     "output_type": "stream",
     "text": [
      "positive no\n"
     ]
    }
   ],
   "source": [
    "n=10\n",
    "if n>0:\n",
    "    print(\"positive no\")\n",
    "elif n<0:\n",
    "    print(\"negative no\")\n",
    "else:\n",
    "    print(\"zero no\")"
   ]
  },
  {
   "cell_type": "code",
   "execution_count": 6,
   "id": "1f68d94a-3eae-4f52-976c-50363f7aea33",
   "metadata": {},
   "outputs": [
    {
     "name": "stdout",
     "output_type": "stream",
     "text": [
      "pass\n"
     ]
    }
   ],
   "source": [
    "m1=67\n",
    "m2=75\n",
    "m3=80\n",
    "per=(m1+m2+m3)/3\n",
    "if per>=35:\n",
    "    print(\"pass\")\n",
    "elif per>=75:\n",
    "    print(\"distinction\")\n",
    "else:\n",
    "    print(\"fail\")\n",
    "  "
   ]
  },
  {
   "cell_type": "code",
   "execution_count": 2,
   "id": "a7266f31-8259-41db-8380-7d9522a4ce80",
   "metadata": {},
   "outputs": [
    {
     "name": "stdin",
     "output_type": "stream",
     "text": [
      "enter colour red\n"
     ]
    },
    {
     "name": "stdout",
     "output_type": "stream",
     "text": [
      "colour is red\n"
     ]
    }
   ],
   "source": [
    "c=input(\"enter colour\")\n",
    "if c==\"red\":\n",
    "    print(\"colour is red\")\n",
    "elif c==\"pink\":\n",
    "    print(\"colour is pink\")\n",
    "else:\n",
    "    print(\"not red and pink colour\")\n"
   ]
  },
  {
   "cell_type": "code",
   "execution_count": 4,
   "id": "10f56525-8056-4e19-8263-c24b673dfcf8",
   "metadata": {},
   "outputs": [
    {
     "name": "stdin",
     "output_type": "stream",
     "text": [
      "enter age 30\n"
     ]
    },
    {
     "name": "stdout",
     "output_type": "stream",
     "text": [
      "adult student\n"
     ]
    }
   ],
   "source": [
    "age=int(input(\"enter age\"))\n",
    "isst=True\n",
    "if age<18:\n",
    "        print(\"minor\")\n",
    "elif age>=18 and isst:\n",
    "        print(\"adult student\")\n",
    "else:\n",
    "        print(\"you are adult student\")\n",
    "    "
   ]
  },
  {
   "cell_type": "code",
   "execution_count": 8,
   "id": "38637dec-1bfd-4bf5-b4b8-aa4244eb8dc5",
   "metadata": {},
   "outputs": [
    {
     "name": "stdout",
     "output_type": "stream",
     "text": [
      "zero no\n"
     ]
    }
   ],
   "source": [
    "n=0\n",
    "if n>0:\n",
    "    print(\"positive no\")\n",
    "elif n<0:\n",
    "    print(\"negative no\")\n",
    "else:\n",
    "    print(\"zero no\")"
   ]
  },
  {
   "cell_type": "code",
   "execution_count": 9,
   "id": "654bf800-1ac6-46f2-8352-e9e7905c2243",
   "metadata": {},
   "outputs": [
    {
     "name": "stdout",
     "output_type": "stream",
     "text": [
      "even no\n"
     ]
    }
   ],
   "source": [
    "n=10\n",
    "if n%2==0:\n",
    "    print(\"even no\")\n",
    "elif n%2!=0:\n",
    "    print(\"neg no\")\n",
    "else:\n",
    "    print (\"zero\")\n",
    "\n",
    "  \n"
   ]
  },
  {
   "cell_type": "code",
   "execution_count": 12,
   "id": "0211fcdd-e6c0-49a3-bd28-3bd1faa706cc",
   "metadata": {},
   "outputs": [
    {
     "name": "stdout",
     "output_type": "stream",
     "text": [
      "a is less than b\n"
     ]
    }
   ],
   "source": [
    "a = 5\n",
    "b = 3\n",
    "if b > a:\n",
    "  print(\"b is greater than a\")\n",
    "elif a == b:\n",
    "  print(\"a and b are equal\")\n",
    "else:\n",
    "    print(\"a is less than b\")\n"
   ]
  },
  {
   "cell_type": "code",
   "execution_count": 1,
   "id": "40a279c4-c5d6-42ef-aef9-c79b8502dd24",
   "metadata": {},
   "outputs": [
    {
     "name": "stdout",
     "output_type": "stream",
     "text": [
      "neg no\n"
     ]
    }
   ],
   "source": [
    "\n",
    "n=15\n",
    "if n%2==0:\n",
    "    print(\"even no\")\n",
    "elif n%2!=0:\n",
    "    print(\"neg no\")\n",
    "else:\n",
    "    print (\"zero\")\n",
    "    "
   ]
  },
  {
   "cell_type": "code",
   "execution_count": null,
   "id": "e2635910-8a4b-4ca1-85e6-b598aa9588a0",
   "metadata": {},
   "outputs": [],
   "source": [
    "a = 40\n",
    "b = 50\n",
    "if b > a:\n",
    "  print(\"b is greater than a\")\n",
    "elif a == b:\n",
    "  print(\"a and b are equal\")\n",
    "else:\n",
    "    print(\"a is less than b\")"
   ]
  },
  {
   "cell_type": "code",
   "execution_count": null,
   "id": "b731ee0e-228e-492c-9ab4-9595a1e9bfa1",
   "metadata": {},
   "outputs": [],
   "source": [
    "room=\"bed\"\n",
    "if(room==\"kitchen\"):\n",
    "    print(\"looking around in the kitchen)\n",
    "elif(room==\"bed\"):\n",
    "    print(\"looking around in the bed\")\n",
    "else:\n",
    "    print(\"looking around elsewhere\")\n",
    "    "
   ]
  },
  {
   "cell_type": "code",
   "execution_count": null,
   "id": "fa9b7200-3242-43dc-8469-d8367aa6eae8",
   "metadata": {},
   "outputs": [],
   "source": []
  }
 ],
 "metadata": {
  "kernelspec": {
   "display_name": "Python 3 (ipykernel)",
   "language": "python",
   "name": "python3"
  },
  "language_info": {
   "codemirror_mode": {
    "name": "ipython",
    "version": 3
   },
   "file_extension": ".py",
   "mimetype": "text/x-python",
   "name": "python",
   "nbconvert_exporter": "python",
   "pygments_lexer": "ipython3",
   "version": "3.11.7"
  }
 },
 "nbformat": 4,
 "nbformat_minor": 5
}
