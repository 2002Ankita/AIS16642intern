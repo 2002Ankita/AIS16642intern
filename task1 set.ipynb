{
 "cells": [
  {
   "cell_type": "code",
   "execution_count": 1,
   "id": "23080021-b78d-48f0-9491-8e11740de19b",
   "metadata": {},
   "outputs": [],
   "source": [
    "#Set\n",
    "#Sets are used to store multiple items in a single variable.\n",
    "#Set is one of 4 built-in data types in Python used to store collections of data, the other 3 are List, Tuple, and Dictionary, all with different qualities and usage.\n",
    "#A set is a collection which is unordered, unchangeable*, and unindexed.\n",
    "#Set items are unchangeable, but you can remove items and add new items.\n",
    "#Sets are written with curly brackets.\n",
    "#Duplicates not allowed\n",
    "#The values True and 1 are considered the same value in sets, and are treated as duplicates:\n",
    "#False and 0 is considered the same value:"
   ]
  },
  {
   "cell_type": "code",
   "execution_count": 2,
   "id": "bc60a55d-73b5-4cd8-9cd2-865d6c22534f",
   "metadata": {},
   "outputs": [
    {
     "name": "stdout",
     "output_type": "stream",
     "text": [
      "{'apple', 'cherry', 'banana'}\n"
     ]
    }
   ],
   "source": [
    "thisset = {\"apple\", \"banana\", \"cherry\"}\n",
    "print(thisset)"
   ]
  },
  {
   "cell_type": "code",
   "execution_count": 3,
   "id": "655c857a-84b9-4d44-8965-3f88f4d91ea7",
   "metadata": {},
   "outputs": [
    {
     "name": "stdout",
     "output_type": "stream",
     "text": [
      "{'apple', 'cherry', 'banana'}\n"
     ]
    }
   ],
   "source": [
    "thisset = {\"apple\", \"banana\", \"cherry\", \"apple\"}\n",
    "print(thisset)"
   ]
  },
  {
   "cell_type": "code",
   "execution_count": 4,
   "id": "51559aa3-e20d-418d-8836-9da64fc52077",
   "metadata": {},
   "outputs": [
    {
     "name": "stdout",
     "output_type": "stream",
     "text": [
      "{True, 2, 'cherry', 'banana', 'apple'}\n"
     ]
    }
   ],
   "source": [
    "thisset = {\"apple\", \"banana\", \"cherry\", True, 1, 2}\n",
    "print(thisset)"
   ]
  },
  {
   "cell_type": "code",
   "execution_count": 5,
   "id": "a385ec1a-3406-44e7-8608-dc1a4fb44940",
   "metadata": {},
   "outputs": [
    {
     "name": "stdout",
     "output_type": "stream",
     "text": [
      "{False, True, 'cherry', 'banana', 'apple'}\n"
     ]
    }
   ],
   "source": [
    "thisset = {\"apple\", \"banana\", \"cherry\", False, True, 0}\n",
    "print(thisset)"
   ]
  },
  {
   "cell_type": "code",
   "execution_count": 6,
   "id": "3bdb5a9b-783b-47fc-8c1a-5ec11a23222f",
   "metadata": {},
   "outputs": [
    {
     "name": "stdout",
     "output_type": "stream",
     "text": [
      "3\n"
     ]
    }
   ],
   "source": [
    "thisset = {\"apple\", \"banana\", \"cherry\"}\n",
    "print(len(thisset))"
   ]
  },
  {
   "cell_type": "code",
   "execution_count": 7,
   "id": "0028b4d0-d7d5-440a-8c42-d3fde50a25b9",
   "metadata": {},
   "outputs": [],
   "source": [
    "#A set with strings, integers and boolean values:\n",
    "set1 = {\"abc\", 34, True, 40, \"male\"}\n"
   ]
  },
  {
   "cell_type": "code",
   "execution_count": 8,
   "id": "44dbbd10-8757-4bb7-b16d-067cd925c247",
   "metadata": {},
   "outputs": [
    {
     "name": "stdout",
     "output_type": "stream",
     "text": [
      "<class 'set'>\n"
     ]
    }
   ],
   "source": [
    "# data type of a set\n",
    "myset = {\"apple\", \"banana\", \"cherry\"}\n",
    "print(type(myset))\n"
   ]
  },
  {
   "cell_type": "code",
   "execution_count": 9,
   "id": "1cd465d6-b19d-476e-82d8-3efa23f3a9ff",
   "metadata": {},
   "outputs": [
    {
     "name": "stdout",
     "output_type": "stream",
     "text": [
      "{'apple', 'cherry', 'banana'}\n"
     ]
    }
   ],
   "source": [
    "#Using the set() constructor to make a set:\n",
    "thisset = set((\"apple\", \"banana\", \"cherry\")) # note the double round-brackets\n",
    "print(thisset)"
   ]
  },
  {
   "cell_type": "code",
   "execution_count": null,
   "id": "4748681d-9366-420d-a64a-c5e3320bde3a",
   "metadata": {},
   "outputs": [],
   "source": []
  }
 ],
 "metadata": {
  "kernelspec": {
   "display_name": "Python 3 (ipykernel)",
   "language": "python",
   "name": "python3"
  },
  "language_info": {
   "codemirror_mode": {
    "name": "ipython",
    "version": 3
   },
   "file_extension": ".py",
   "mimetype": "text/x-python",
   "name": "python",
   "nbconvert_exporter": "python",
   "pygments_lexer": "ipython3",
   "version": "3.11.7"
  }
 },
 "nbformat": 4,
 "nbformat_minor": 5
}
