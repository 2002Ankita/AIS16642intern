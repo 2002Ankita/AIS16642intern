{
 "cells": [
  {
   "cell_type": "code",
   "execution_count": 2,
   "id": "3f0a133b-b829-471c-a1fb-ac02e6736d5e",
   "metadata": {},
   "outputs": [],
   "source": [
    "#Dictionary\n",
    "#Dictionaries are used to store data values in key:value pairs.\n",
    "#A dictionary is a collection which is ordered*, changeable and do not allow duplicates.\n",
    "#Dictionaries are written with curly brackets, and have keys and values:"
   ]
  },
  {
   "cell_type": "code",
   "execution_count": 3,
   "id": "8275755d-a6bb-4c77-8f07-b24d00b7bad2",
   "metadata": {},
   "outputs": [
    {
     "name": "stdout",
     "output_type": "stream",
     "text": [
      "{'roll no': 101, 'name': 'asha', 'city': 'satara'}\n"
     ]
    }
   ],
   "source": [
    "student1={\"roll no\":101,\"name\":\"asha\",\"city\":\"satara\"}\n",
    "print(student1)"
   ]
  },
  {
   "cell_type": "code",
   "execution_count": 4,
   "id": "0a53a689-ea7d-46be-8fc2-b8c6f9e67359",
   "metadata": {},
   "outputs": [
    {
     "name": "stdout",
     "output_type": "stream",
     "text": [
      "Ford\n"
     ]
    }
   ],
   "source": [
    "#Print the \"brand\" value of the dictionary:\n",
    "thisdict = {\n",
    "  \"brand\": \"Ford\",\n",
    "  \"model\": \"Mustang\",\n",
    "  \"year\": 1964\n",
    "}\n",
    "print(thisdict[\"brand\"])"
   ]
  },
  {
   "cell_type": "code",
   "execution_count": 5,
   "id": "482e9bab-3472-4160-b06e-1ecd08a1292e",
   "metadata": {},
   "outputs": [
    {
     "name": "stdout",
     "output_type": "stream",
     "text": [
      "3\n"
     ]
    }
   ],
   "source": [
    "print(len(student1))"
   ]
  },
  {
   "cell_type": "code",
   "execution_count": 7,
   "id": "23e11fd2-2dff-4a77-9818-4927b29e6449",
   "metadata": {},
   "outputs": [],
   "source": [
    "#String, int, boolean, and list data types:\n",
    "thisdict = {\n",
    "  \"brand\": \"Ford\",\n",
    "  \"electric\": False,\n",
    "  \"year\": 1964,\n",
    "  \"colors\": [\"red\", \"white\", \"blue\"]\n",
    "}"
   ]
  },
  {
   "cell_type": "code",
   "execution_count": 8,
   "id": "40a1c86e-fc5b-486f-a9a7-fc322bfc5104",
   "metadata": {},
   "outputs": [
    {
     "name": "stdout",
     "output_type": "stream",
     "text": [
      "{'name': 'John', 'age': 36, 'country': 'Norway'}\n"
     ]
    }
   ],
   "source": [
    "thisdict = dict(name = \"John\", age = 36, country = \"Norway\")\n",
    "print(thisdict)\n"
   ]
  },
  {
   "cell_type": "code",
   "execution_count": 9,
   "id": "c442fed3-d192-48ea-ab22-dd82759485ec",
   "metadata": {},
   "outputs": [
    {
     "name": "stdout",
     "output_type": "stream",
     "text": [
      "<class 'dict'>\n"
     ]
    }
   ],
   "source": [
    "print(type(student1))"
   ]
  },
  {
   "cell_type": "code",
   "execution_count": 10,
   "id": "9311966f-3373-460e-97df-75d29c122dbe",
   "metadata": {},
   "outputs": [
    {
     "name": "stdout",
     "output_type": "stream",
     "text": [
      "101\n"
     ]
    }
   ],
   "source": [
    "print(student1[\"roll no\"])"
   ]
  },
  {
   "cell_type": "code",
   "execution_count": 12,
   "id": "34935ce6-be56-4a48-ac27-f6f9d56f5262",
   "metadata": {},
   "outputs": [
    {
     "name": "stdout",
     "output_type": "stream",
     "text": [
      "asha\n"
     ]
    }
   ],
   "source": [
    "print(student1[\"name\"])\n"
   ]
  },
  {
   "cell_type": "code",
   "execution_count": 13,
   "id": "df872bbd-a067-4cd7-bf56-c92b77aad40b",
   "metadata": {},
   "outputs": [
    {
     "name": "stdout",
     "output_type": "stream",
     "text": [
      "dict_keys(['roll no', 'name', 'city'])\n"
     ]
    }
   ],
   "source": [
    "print(student1.keys())"
   ]
  },
  {
   "cell_type": "code",
   "execution_count": 14,
   "id": "07797922-0ad7-4b94-b221-e474956b02f1",
   "metadata": {},
   "outputs": [
    {
     "name": "stdout",
     "output_type": "stream",
     "text": [
      "dict_values([101, 'asha', 'satara'])\n"
     ]
    }
   ],
   "source": [
    "print(student1.values())"
   ]
  },
  {
   "cell_type": "code",
   "execution_count": 15,
   "id": "c8b22812-66d7-4d62-9669-70fcda3b082e",
   "metadata": {},
   "outputs": [
    {
     "name": "stdout",
     "output_type": "stream",
     "text": [
      "[101, 102, 103]\n"
     ]
    }
   ],
   "source": [
    "studentlist={\"roll no\":[101,102,103],\"name\":[\"asha\",\"lata\",\"nita\"],\"city\":[\"satara\",\"pune\",\"mumbai\"]}\n",
    "print(studentlist[\"roll no\"])"
   ]
  },
  {
   "cell_type": "code",
   "execution_count": null,
   "id": "8b75d42c-3b7b-4366-b593-3d473cd28759",
   "metadata": {},
   "outputs": [],
   "source": []
  }
 ],
 "metadata": {
  "kernelspec": {
   "display_name": "Python 3 (ipykernel)",
   "language": "python",
   "name": "python3"
  },
  "language_info": {
   "codemirror_mode": {
    "name": "ipython",
    "version": 3
   },
   "file_extension": ".py",
   "mimetype": "text/x-python",
   "name": "python",
   "nbconvert_exporter": "python",
   "pygments_lexer": "ipython3",
   "version": "3.11.7"
  }
 },
 "nbformat": 4,
 "nbformat_minor": 5
}
