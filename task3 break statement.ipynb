{
 "cells": [
  {
   "cell_type": "code",
   "execution_count": 14,
   "id": "4552e569-f4f3-4272-8bcb-66432f5629b3",
   "metadata": {},
   "outputs": [],
   "source": [
    "#control statement\n",
    "#break statement \n",
    "#with break statement we can stop the loop before it has looped through all the items.\n",
    "#The 'break'statement in python is used to exit a loop prematurely.\n",
    "#With\n",
    "#It can be used within 'for' and 'while' loops .when the 'break' statement is executed ,the loop stops immediately, and the program control is transfered to the first statement following loop."
   ]
  },
  {
   "cell_type": "code",
   "execution_count": 2,
   "id": "c915ec0b-e4d2-4352-9319-80c4e233baac",
   "metadata": {},
   "outputs": [
    {
     "name": "stdout",
     "output_type": "stream",
     "text": [
      "1\n",
      "2\n",
      "3\n"
     ]
    }
   ],
   "source": [
    "#using break in while loop\n",
    "i = 1\n",
    "while i < 6:\n",
    "  print(i)\n",
    "  if i == 3:\n",
    "    break\n",
    "  i += 1\n"
   ]
  },
  {
   "cell_type": "code",
   "execution_count": 6,
   "id": "730485a1-498f-4bf3-822f-5e1d9de41146",
   "metadata": {},
   "outputs": [
    {
     "name": "stdin",
     "output_type": "stream",
     "text": [
      "enter a number 55\n"
     ]
    },
    {
     "name": "stdout",
     "output_type": "stream",
     "text": [
      "False\n"
     ]
    }
   ],
   "source": [
    "#2\n",
    "n=int(input(\"enter a number\"))\n",
    "is_prime=True\n",
    "for i in range(2,n):\n",
    "    if n%i==0:\n",
    "        is_prime=False\n",
    "        break\n",
    "print(is_prime)        \n",
    "        \n"
   ]
  },
  {
   "cell_type": "code",
   "execution_count": 13,
   "id": "30892e50-c557-49da-bb19-5a0fb77033b6",
   "metadata": {},
   "outputs": [
    {
     "name": "stdout",
     "output_type": "stream",
     "text": [
      "a\n",
      "n\n",
      "k\n"
     ]
    }
   ],
   "source": [
    "#3\n",
    "str=\"ankita\"\n",
    "for char in str:\n",
    "    if(char==\"k\"):\n",
    "      print(\"k\")\n",
    "      break\n",
    "    print(char) "
   ]
  },
  {
   "cell_type": "code",
   "execution_count": null,
   "id": "1a17d86b-0cfb-496b-b821-6952c046cac0",
   "metadata": {},
   "outputs": [],
   "source": []
  }
 ],
 "metadata": {
  "kernelspec": {
   "display_name": "Python 3 (ipykernel)",
   "language": "python",
   "name": "python3"
  },
  "language_info": {
   "codemirror_mode": {
    "name": "ipython",
    "version": 3
   },
   "file_extension": ".py",
   "mimetype": "text/x-python",
   "name": "python",
   "nbconvert_exporter": "python",
   "pygments_lexer": "ipython3",
   "version": "3.11.7"
  }
 },
 "nbformat": 4,
 "nbformat_minor": 5
}
