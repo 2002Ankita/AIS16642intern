{
 "cells": [
  {
   "cell_type": "code",
   "execution_count": null,
   "id": "15c71dac-84d8-4233-9f2e-2219da247fc7",
   "metadata": {},
   "outputs": [],
   "source": [
    "#Pandas Introduction\n",
    "#What is Pandas?\n",
    "Pandas is a Python library used for working with data sets.\n",
    "\n",
    "It has functions for analyzing, cleaning, exploring, and manipulating data.\n",
    "\n",
    "The name \"Pandas\" has a reference to both \"Panel Data\", and \"Python Data Analysis\" and was created by Wes McKinney in 2008.\n",
    "\n",
    "Why Use Pandas?\n",
    "Pandas allows us to analyze big data and make conclusions based on statistical theories.\n",
    "\n",
    "Pandas can clean messy data sets, and make them readable and relevant.\n",
    "\n",
    "Relevant data is very important in data science."
   ]
  },
  {
   "cell_type": "code",
   "execution_count": null,
   "id": "0b37a6bb-0cf0-4c0f-a708-038c3761b1be",
   "metadata": {},
   "outputs": [],
   "source": [
    "What Can Pandas Do?\n",
    "Pandas gives you answers about the data. Like:\n",
    "\n",
    "Is there a correlation between two or more columns?\n",
    "What is average value?\n",
    "Max value?\n",
    "Min value?\n",
    "Pandas are also able to delete rows that are not relevant, or contains wrong values, like empty or NULL values. This is called cleaning the data."
   ]
  },
  {
   "cell_type": "code",
   "execution_count": null,
   "id": "aaa09eff-94d5-4651-9b9b-7ff17f27153c",
   "metadata": {},
   "outputs": [],
   "source": [
    "Pandas Getting Started\n",
    "Installation of Pandas\n",
    "If you have Python and PIP already installed on a system, then installation of Pandas is very easy.\n",
    "\n",
    "Install it using this command:\n",
    "\n",
    "C:\\Users\\Your Name>pip install pandas\n",
    "If this command fails, then use a python distribution that already has Pandas installed like, Anaconda, Spyder etc."
   ]
  },
  {
   "cell_type": "code",
   "execution_count": null,
   "id": "d3d618e4-1005-4f66-91e6-74c52f07b276",
   "metadata": {},
   "outputs": [],
   "source": [
    "#Import Pandas\n",
    "#Once Pandas is installed, import it in your applications by adding the import keyword:\n",
    "\n",
    "import pandas\n",
    "#Now Pandas is imported and ready to use.\n"
   ]
  },
  {
   "cell_type": "code",
   "execution_count": null,
   "id": "db483bdf-237b-44ab-8eb4-ee546862052e",
   "metadata": {},
   "outputs": [],
   "source": [
    "Pandas as pd\n",
    "Pandas is usually imported under the pd alias.\n",
    "\n",
    "alias: In Python alias are an alternate name for referring to the same thing.\n",
    "\n",
    "Create an alias with the as keyword while importing:\n",
    "\n",
    "import pandas as pd\n",
    "Now the Pandas package can be referred to as pd instead of pandas."
   ]
  },
  {
   "cell_type": "code",
   "execution_count": null,
   "id": "9aaff782-c39c-4287-8f86-3b9d68f3f7de",
   "metadata": {},
   "outputs": [],
   "source": [
    "#Pandas Series\n",
    "#What is a Series?\n",
    "#A Pandas Series is like a column in a table.\n",
    "#It is a one-dimensional array holding data of any type."
   ]
  },
  {
   "cell_type": "code",
   "execution_count": 1,
   "id": "c7815549-ec45-44c9-8c1d-c67a73f0e2c8",
   "metadata": {},
   "outputs": [
    {
     "name": "stdout",
     "output_type": "stream",
     "text": [
      "0    1\n",
      "1    7\n",
      "2    2\n",
      "dtype: int64\n"
     ]
    }
   ],
   "source": [
    "import pandas as pd\n",
    "a = [1, 7, 2]\n",
    "myvar = pd.Series(a)\n",
    "print(myvar)\n"
   ]
  },
  {
   "cell_type": "code",
   "execution_count": 2,
   "id": "534ed9ef-130d-4fbe-b3ba-6338494ceb52",
   "metadata": {},
   "outputs": [
    {
     "name": "stdout",
     "output_type": "stream",
     "text": [
      "1\n"
     ]
    }
   ],
   "source": [
    "#Labels\n",
    "#If nothing else is specified, the values are labeled with their index number. First value has index 0, second value has index 1 etc.\n",
    "#This label can be used to access a specified value.\n",
    "#Example\n",
    "#Return the first value of the Series:\n",
    "\n",
    "print(myvar[0])\n"
   ]
  },
  {
   "cell_type": "code",
   "execution_count": 3,
   "id": "36c96c6e-52cb-4160-a375-e417621e0980",
   "metadata": {},
   "outputs": [
    {
     "name": "stdout",
     "output_type": "stream",
     "text": [
      "x    1\n",
      "y    7\n",
      "z    2\n",
      "dtype: int64\n"
     ]
    }
   ],
   "source": [
    "#Create Labels\n",
    "#With the index argument, you can name your own labels.\n",
    "#Example\n",
    "#Create your own labels:\n",
    "import pandas as pd\n",
    "a = [1, 7, 2]\n",
    "myvar = pd.Series(a, index = [\"x\", \"y\", \"z\"])\n",
    "print(myvar)"
   ]
  },
  {
   "cell_type": "code",
   "execution_count": 4,
   "id": "56da062c-28fd-4a90-9da0-0e4a0d8dc234",
   "metadata": {},
   "outputs": [
    {
     "name": "stdout",
     "output_type": "stream",
     "text": [
      "7\n"
     ]
    }
   ],
   "source": [
    "#Return the value of \"y\":\n",
    "\n",
    "print(myvar[\"y\"])\n"
   ]
  },
  {
   "cell_type": "code",
   "execution_count": 5,
   "id": "47c61851-4e42-46fb-9331-054d0f68f68a",
   "metadata": {},
   "outputs": [
    {
     "name": "stdout",
     "output_type": "stream",
     "text": [
      "day1    420\n",
      "day2    380\n",
      "day3    390\n",
      "dtype: int64\n"
     ]
    }
   ],
   "source": [
    "#Key/Value Objects as Series\n",
    "#You can also use a key/value object, like a dictionary, when creating a Series.\n",
    "#Example\n",
    "#Create a simple Pandas Series from a dictionary:\n",
    "import pandas as pd\n",
    "calories = {\"day1\": 420, \"day2\": 380, \"day3\": 390}\n",
    "myvar = pd.Series(calories)\n",
    "print(myvar)"
   ]
  },
  {
   "cell_type": "code",
   "execution_count": 6,
   "id": "0b1cd344-aaf4-4c5f-9a54-c61adcbb58ef",
   "metadata": {},
   "outputs": [
    {
     "name": "stdout",
     "output_type": "stream",
     "text": [
      "day1    420\n",
      "day2    380\n",
      "dtype: int64\n"
     ]
    }
   ],
   "source": [
    "#To select only some of the items in the dictionary, use the index argument and specify only the items you want to include in the Series.\n",
    "#Example\n",
    "#Create a Series using only data from \"day1\" and \"day2\":\n",
    "import pandas as pd\n",
    "calories = {\"day1\": 420, \"day2\": 380, \"day3\": 390}\n",
    "myvar = pd.Series(calories, index = [\"day1\", \"day2\"])\n",
    "print(myvar)"
   ]
  },
  {
   "cell_type": "code",
   "execution_count": null,
   "id": "d3c4fe3f-93c3-41ce-9c9a-d6006c2ced5c",
   "metadata": {},
   "outputs": [],
   "source": []
  }
 ],
 "metadata": {
  "kernelspec": {
   "display_name": "Python 3 (ipykernel)",
   "language": "python",
   "name": "python3"
  },
  "language_info": {
   "codemirror_mode": {
    "name": "ipython",
    "version": 3
   },
   "file_extension": ".py",
   "mimetype": "text/x-python",
   "name": "python",
   "nbconvert_exporter": "python",
   "pygments_lexer": "ipython3",
   "version": "3.11.7"
  }
 },
 "nbformat": 4,
 "nbformat_minor": 5
}
