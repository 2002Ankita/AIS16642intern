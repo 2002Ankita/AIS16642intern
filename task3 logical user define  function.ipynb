{
 "cells": [
  {
   "cell_type": "code",
   "execution_count": 1,
   "id": "1ab6b7a7-270e-4944-bf09-eda8126ede08",
   "metadata": {},
   "outputs": [
    {
     "name": "stdin",
     "output_type": "stream",
     "text": [
      "enter eng marks 65\n",
      "enter mar marks 70\n",
      "enter hin marks 85\n"
     ]
    },
    {
     "name": "stdout",
     "output_type": "stream",
     "text": [
      "percentage are 73.33333333333333\n",
      "grade is B\n"
     ]
    }
   ],
   "source": [
    "#1\n",
    "def per(eng,mar,hin):\n",
    "    percentage=(eng+mar+hin)/3\n",
    "    return(percentage)\n",
    "m1=int(input(\"enter eng marks\"))\n",
    "m2=int(input(\"enter mar marks\"))\n",
    "m3=int(input(\"enter hin marks\"))\n",
    "result=per(m1,m2,m3)\n",
    "print(\"percentage are\",result)\n",
    "def grade_letter(score):\n",
    "    if score>75:\n",
    "        return \"A\"\n",
    "    elif score>50 and score<75:\n",
    "        return \"B\"\n",
    "    else:\n",
    "        return \"C\"\n",
    "def display_grade(result):\n",
    "    grade=grade_letter(result)\n",
    "    print(\"grade is\",grade)\n",
    "display_grade(result)    "
   ]
  },
  {
   "cell_type": "code",
   "execution_count": 5,
   "id": "7ff4430b-aa04-4499-b092-e878ada559da",
   "metadata": {},
   "outputs": [
    {
     "name": "stdin",
     "output_type": "stream",
     "text": [
      "enter a num 5\n"
     ]
    },
    {
     "name": "stdout",
     "output_type": "stream",
     "text": [
      "factorial is 120\n"
     ]
    }
   ],
   "source": [
    "#2\n",
    "def factorial(n):\n",
    "    fact=1\n",
    "    for i in range(1,n+1):\n",
    "        fact=fact*i\n",
    "    return fact\n",
    "number=int(input(\"enter a num\"))\n",
    "f=factorial(number)\n",
    "print(\"factorial is\",f)"
   ]
  },
  {
   "cell_type": "code",
   "execution_count": 9,
   "id": "738453da-667c-49cb-a6c7-5ad6ebcb222b",
   "metadata": {},
   "outputs": [
    {
     "name": "stdin",
     "output_type": "stream",
     "text": [
      "enter radius 4\n"
     ]
    },
    {
     "name": "stdout",
     "output_type": "stream",
     "text": [
      "50.24\n"
     ]
    }
   ],
   "source": [
    "#3\n",
    "def area(r):\n",
    "    pi=3.14\n",
    "    a=pi*r**2\n",
    "    return a\n",
    "rad=int(input(\"enter radius\"))\n",
    "print(area(rad))\n",
    "    "
   ]
  },
  {
   "cell_type": "markdown",
   "id": "bfe9979d-73c0-4e20-925b-a24ae0422c60",
   "metadata": {
    "jp-MarkdownHeadingCollapsed": true
   },
   "source": [
    " "
   ]
  },
  {
   "cell_type": "markdown",
   "id": "5995e79d-705a-43c5-98f5-0cd33d672119",
   "metadata": {},
   "source": []
  },
  {
   "cell_type": "code",
   "execution_count": 11,
   "id": "d879c1a2-833f-4c00-b874-56ad8480cc6f",
   "metadata": {},
   "outputs": [
    {
     "name": "stdin",
     "output_type": "stream",
     "text": [
      "enter a strin apple\n"
     ]
    },
    {
     "name": "stdout",
     "output_type": "stream",
     "text": [
      "1\n"
     ]
    }
   ],
   "source": [
    "#4\n",
    "def vowel_count(s):\n",
    "    c=0\n",
    "    vowels=\"aeiouAEIOU\"\n",
    "    for char in s:\n",
    "        if char in vowels:\n",
    "            c=c+1\n",
    "        return c\n",
    "st=input(\"enter a strin\")\n",
    "v_count=vowel_count(st)\n",
    "print(v_count)"
   ]
  },
  {
   "cell_type": "code",
   "execution_count": 12,
   "id": "3bc47dc1-8214-4da1-b81f-4edcce4aa210",
   "metadata": {},
   "outputs": [
    {
     "name": "stdin",
     "output_type": "stream",
     "text": [
      "enter a number 23\n"
     ]
    },
    {
     "name": "stdout",
     "output_type": "stream",
     "text": [
      "it is prime\n"
     ]
    }
   ],
   "source": [
    "#5\n",
    "def prime(n):\n",
    "    if n<=1:\n",
    "        return \"not prime\"\n",
    "    else:\n",
    "        i=2\n",
    "        while i<n:\n",
    "            if n%i==0:\n",
    "                return \"it is not prime\"\n",
    "            else:\n",
    "                return \"it is prime\"\n",
    "            i=i+1\n",
    "num=int(input(\"enter a number\"))\n",
    "print(prime(num))"
   ]
  },
  {
   "cell_type": "code",
   "execution_count": 13,
   "id": "bdb4adf5-1cf5-4977-9685-4a0b725691ce",
   "metadata": {},
   "outputs": [
    {
     "name": "stdout",
     "output_type": "stream",
     "text": [
      "maximum num 12\n"
     ]
    }
   ],
   "source": [
    "#6\n",
    "def max(n):\n",
    "    m=n[0]\n",
    "    for x in n:\n",
    "        if x>m:\n",
    "            m=x\n",
    "    return m\n",
    "l=[3,12,6,7,8]\n",
    "max_num=max(l)\n",
    "print(\"maximum num\",max_num)"
   ]
  },
  {
   "cell_type": "code",
   "execution_count": 14,
   "id": "99faa3dd-8d2e-4e31-a331-ae117e4a624f",
   "metadata": {},
   "outputs": [
    {
     "name": "stdout",
     "output_type": "stream",
     "text": [
      "The area of triangle with base 8 is 20.0\n"
     ]
    }
   ],
   "source": [
    "#7\n",
    "def calculate_triangle_area(base,height):\n",
    "    area=0.5*base*height\n",
    "    return area\n",
    "base_length=5\n",
    "height_length=8\n",
    "triangle_area=calculate_triangle_area(base_length,height_length)\n",
    "print(\"The area of triangle with base\",base_length and height_length,\"is\",triangle_area) "
   ]
  },
  {
   "cell_type": "code",
   "execution_count": 26,
   "id": "77335681-13a1-4243-8dfb-a97b66edb89e",
   "metadata": {},
   "outputs": [
    {
     "name": "stdout",
     "output_type": "stream",
     "text": [
      "average 70.0\n"
     ]
    }
   ],
   "source": [
    "#8\n",
    "def average(a,b,c):\n",
    "  a=(a+b+c)/3\n",
    "  return a  \n",
    "n1=70\n",
    "n2=70\n",
    "n3=70\n",
    "avg=average(n1,n2,n3)\n",
    "print(\"average\",avg)"
   ]
  },
  {
   "cell_type": "code",
   "execution_count": 29,
   "id": "cf92fc8f-ea07-4abc-b762-b962ba6e9935",
   "metadata": {},
   "outputs": [
    {
     "name": "stdin",
     "output_type": "stream",
     "text": [
      "enter day num 2\n"
     ]
    },
    {
     "name": "stdout",
     "output_type": "stream",
     "text": [
      "tuesday\n"
     ]
    }
   ],
   "source": [
    "#9\n",
    "def daynum(d):\n",
    "  if d==1:\n",
    "    print(\"monday\")\n",
    "  elif d==2:\n",
    "    print(\"tuesday\")\n",
    "  else:\n",
    "    print(\"other day\")\n",
    "day=int(input(\"enter day num\"))\n",
    "daynum(day)"
   ]
  },
  {
   "cell_type": "code",
   "execution_count": 41,
   "id": "6e9c68c1-5561-4c7a-b86b-d84d6d458198",
   "metadata": {},
   "outputs": [
    {
     "name": "stdin",
     "output_type": "stream",
     "text": [
      "enter a num 145\n"
     ]
    },
    {
     "name": "stdout",
     "output_type": "stream",
     "text": [
      "not armstrong\n"
     ]
    }
   ],
   "source": [
    "#10\n",
    "def Armstrong(n):\n",
    " temp=n\n",
    " s=0\n",
    " while n>0:\n",
    "    d=n%10\n",
    "    s=s+(d**3)\n",
    "    n=n//10\n",
    " if s==temp:\n",
    "     print(\"armstrong\")\n",
    " else:\n",
    "     print(\"not armstrong\")\n",
    "Num=int(input(\"enter a num\"))\n",
    "result=Armstrong(Num)\n",
    "\n",
    "    "
   ]
  },
  {
   "cell_type": "code",
   "execution_count": null,
   "id": "d5a59ea5-bdc5-4ede-9ae5-765e9fc4a8d2",
   "metadata": {},
   "outputs": [],
   "source": []
  }
 ],
 "metadata": {
  "kernelspec": {
   "display_name": "Python 3 (ipykernel)",
   "language": "python",
   "name": "python3"
  },
  "language_info": {
   "codemirror_mode": {
    "name": "ipython",
    "version": 3
   },
   "file_extension": ".py",
   "mimetype": "text/x-python",
   "name": "python",
   "nbconvert_exporter": "python",
   "pygments_lexer": "ipython3",
   "version": "3.11.7"
  }
 },
 "nbformat": 4,
 "nbformat_minor": 5
}
