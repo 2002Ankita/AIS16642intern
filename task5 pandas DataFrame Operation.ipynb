{
 "cells": [
  {
   "cell_type": "code",
   "execution_count": 3,
   "id": "6d6da302-d4ab-4ac7-a207-7fe0ca60ca8f",
   "metadata": {},
   "outputs": [
    {
     "name": "stdout",
     "output_type": "stream",
     "text": [
      "count of each value in column 'A':\n",
      "A\n",
      "4    3\n",
      "2    2\n",
      "1    1\n",
      "3    1\n",
      "5    1\n",
      "Name: count, dtype: int64\n"
     ]
    }
   ],
   "source": [
    "#DataFrame operations\n",
    "import pandas as pd\n",
    "#creare a sample Dataframe\n",
    "data={\n",
    "    'A':[1,2,2,3,4,4,4,5],\n",
    "    'B':['foo','bar','foo','bar','foo','bar','foo','bar']\n",
    "}\n",
    "df=pd.DataFrame(data)\n",
    "\n",
    "#count occurance of each value in column 'A'\n",
    "count_A=df['A'].value_counts()\n",
    "print(\"count of each value in column 'A':\")\n",
    "print(count_A)"
   ]
  },
  {
   "cell_type": "code",
   "execution_count": 5,
   "id": "c0cbae1b-9558-419b-bc96-8f9c77e521b5",
   "metadata": {},
   "outputs": [
    {
     "name": "stdout",
     "output_type": "stream",
     "text": [
      "\n",
      "DataFrame with 'A_squared':\n",
      "   A    B  A_squared\n",
      "0  1  foo          1\n",
      "1  2  bar          4\n",
      "2  2  foo          4\n",
      "3  3  bar          9\n",
      "4  4  foo         16\n",
      "5  4  bar         16\n",
      "6  4  foo         16\n",
      "7  5  bar         25\n"
     ]
    }
   ],
   "source": [
    "#Apply function to column'A' (e.g.,square each value)\n",
    "df['A_squared']=df['A'].apply(lambda x:x**2)\n",
    "print(\"\\nDataFrame with 'A_squared':\")\n",
    "print(df)"
   ]
  },
  {
   "cell_type": "code",
   "execution_count": 6,
   "id": "2f44f950-2ee9-4453-a34d-685305d9d86a",
   "metadata": {},
   "outputs": [
    {
     "name": "stdout",
     "output_type": "stream",
     "text": [
      "\n",
      "Unique values in column 'B':\n",
      "['foo' 'bar']\n"
     ]
    }
   ],
   "source": [
    "#Find unique value in column 'B'\n",
    "unique_B=df['B'].unique()\n",
    "print(\"\\nUnique values in column 'B':\")\n",
    "print(unique_B)"
   ]
  },
  {
   "cell_type": "code",
   "execution_count": 7,
   "id": "8ba8e01b-96f4-4bc5-8261-8c3052e9853b",
   "metadata": {},
   "outputs": [
    {
     "name": "stdout",
     "output_type": "stream",
     "text": [
      "\\,Count of unique values in column 'B':\n",
      "2\n"
     ]
    }
   ],
   "source": [
    "#count unique values in column 'B'\n",
    "unique_count_B=df['B'].nunique()\n",
    "print(\"\\,Count of unique values in column 'B':\")\n",
    "print(unique_count_B)"
   ]
  },
  {
   "cell_type": "code",
   "execution_count": 8,
   "id": "4bd92df3-02ee-42bd-8607-3ce43d0ac32b",
   "metadata": {},
   "outputs": [
    {
     "name": "stdout",
     "output_type": "stream",
     "text": [
      "   A    B  A_squared\n",
      "0  1  foo          1\n",
      "1  2  bar          4\n",
      "2  2  foo          4\n",
      "3  3  bar          9\n",
      "4  4  foo         16\n"
     ]
    }
   ],
   "source": [
    "print(df.head())"
   ]
  },
  {
   "cell_type": "code",
   "execution_count": 9,
   "id": "7716b256-2027-4212-aa3f-8f5b63c13e7a",
   "metadata": {},
   "outputs": [
    {
     "name": "stdout",
     "output_type": "stream",
     "text": [
      "   A    B  A_squared\n",
      "3  3  bar          9\n",
      "4  4  foo         16\n",
      "5  4  bar         16\n",
      "6  4  foo         16\n",
      "7  5  bar         25\n"
     ]
    }
   ],
   "source": [
    "print(df.tail())"
   ]
  },
  {
   "cell_type": "code",
   "execution_count": 10,
   "id": "e54b5c0e-40f3-450c-a4bf-f8e4f95f4700",
   "metadata": {},
   "outputs": [
    {
     "name": "stdout",
     "output_type": "stream",
     "text": [
      "<class 'pandas.core.frame.DataFrame'>\n",
      "RangeIndex: 8 entries, 0 to 7\n",
      "Data columns (total 3 columns):\n",
      " #   Column     Non-Null Count  Dtype \n",
      "---  ------     --------------  ----- \n",
      " 0   A          8 non-null      int64 \n",
      " 1   B          8 non-null      object\n",
      " 2   A_squared  8 non-null      int64 \n",
      "dtypes: int64(2), object(1)\n",
      "memory usage: 324.0+ bytes\n",
      "None\n"
     ]
    }
   ],
   "source": [
    "print(df.info())"
   ]
  },
  {
   "cell_type": "code",
   "execution_count": 11,
   "id": "2b0391da-b600-4368-96bc-5fba52a966ec",
   "metadata": {},
   "outputs": [
    {
     "name": "stdout",
     "output_type": "stream",
     "text": [
      "              A  A_squared\n",
      "count  8.000000   8.000000\n",
      "mean   3.125000  11.375000\n",
      "std    1.356203   8.210403\n",
      "min    1.000000   1.000000\n",
      "25%    2.000000   4.000000\n",
      "50%    3.500000  12.500000\n",
      "75%    4.000000  16.000000\n",
      "max    5.000000  25.000000\n"
     ]
    }
   ],
   "source": [
    "print(df.describe())"
   ]
  },
  {
   "cell_type": "code",
   "execution_count": null,
   "id": "0f8d1b73-9545-415d-b862-1c379b02580c",
   "metadata": {},
   "outputs": [],
   "source": []
  }
 ],
 "metadata": {
  "kernelspec": {
   "display_name": "Python 3 (ipykernel)",
   "language": "python",
   "name": "python3"
  },
  "language_info": {
   "codemirror_mode": {
    "name": "ipython",
    "version": 3
   },
   "file_extension": ".py",
   "mimetype": "text/x-python",
   "name": "python",
   "nbconvert_exporter": "python",
   "pygments_lexer": "ipython3",
   "version": "3.11.7"
  }
 },
 "nbformat": 4,
 "nbformat_minor": 5
}
