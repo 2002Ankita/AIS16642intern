{
 "cells": [
  {
   "cell_type": "code",
   "execution_count": 1,
   "id": "bf056f48-754f-40bf-87c6-6ea5319c8da7",
   "metadata": {},
   "outputs": [],
   "source": [
    "#Strings\n",
    "#Strings in python are surrounded by either single quotation marks, or double quotation marks.\n",
    "#'hello' is the same as \"hello\".\n",
    "#You can display a string literal with the print() function"
   ]
  },
  {
   "cell_type": "code",
   "execution_count": 2,
   "id": "692f46d7-6c79-4f76-b892-ef7bf2d85653",
   "metadata": {},
   "outputs": [
    {
     "name": "stdout",
     "output_type": "stream",
     "text": [
      "Hello\n"
     ]
    }
   ],
   "source": [
    "print(\"Hello\")"
   ]
  },
  {
   "cell_type": "code",
   "execution_count": 3,
   "id": "d1c0458e-716e-4538-916e-ce68155025a6",
   "metadata": {},
   "outputs": [
    {
     "name": "stdout",
     "output_type": "stream",
     "text": [
      "It's alright\n"
     ]
    }
   ],
   "source": [
    "print(\"It's alright\")"
   ]
  },
  {
   "cell_type": "code",
   "execution_count": 4,
   "id": "8e72d673-3dcf-425d-9c13-290134451f7b",
   "metadata": {},
   "outputs": [],
   "source": [
    "#Assign String to a Variable\n"
   ]
  },
  {
   "cell_type": "code",
   "execution_count": 5,
   "id": "3c987cc0-a920-4fc1-acc9-499cf301f3c5",
   "metadata": {},
   "outputs": [
    {
     "name": "stdout",
     "output_type": "stream",
     "text": [
      "Hello\n"
     ]
    }
   ],
   "source": [
    "a = \"Hello\"\n",
    "print(a)\n"
   ]
  },
  {
   "cell_type": "code",
   "execution_count": 6,
   "id": "1faf3492-7839-4918-9a2e-423cec1a1528",
   "metadata": {},
   "outputs": [],
   "source": [
    "#Multiline Strings"
   ]
  },
  {
   "cell_type": "code",
   "execution_count": 7,
   "id": "bac898ea-b921-4362-8958-fca792b8ce85",
   "metadata": {},
   "outputs": [
    {
     "name": "stdout",
     "output_type": "stream",
     "text": [
      "Lorem ipsum dolor sit amet,\n",
      "consectetur adipiscing elit,\n",
      "sed do eiusmod tempor incididunt\n",
      "ut labore et dolore magna aliqua.\n"
     ]
    }
   ],
   "source": [
    "a=\"\"\"Lorem ipsum dolor sit amet,\n",
    "consectetur adipiscing elit,\n",
    "sed do eiusmod tempor incididunt\n",
    "ut labore et dolore magna aliqua.\"\"\"\n",
    "print(a)\n"
   ]
  },
  {
   "cell_type": "code",
   "execution_count": 9,
   "id": "a334ad1e-9e75-4e45-9221-de7f77be482c",
   "metadata": {},
   "outputs": [
    {
     "data": {
      "text/plain": [
       "'h'"
      ]
     },
     "execution_count": 9,
     "metadata": {},
     "output_type": "execute_result"
    }
   ],
   "source": [
    "#string support index operator\n",
    "n=\"hello\"\n",
    "n[0]"
   ]
  },
  {
   "cell_type": "code",
   "execution_count": 10,
   "id": "659950bf-c03e-4a76-befc-1dff770b2ba9",
   "metadata": {},
   "outputs": [
    {
     "data": {
      "text/plain": [
       "'hel'"
      ]
     },
     "execution_count": 10,
     "metadata": {},
     "output_type": "execute_result"
    }
   ],
   "source": [
    "#string provides slice operator\n",
    "n[0:3]"
   ]
  },
  {
   "cell_type": "code",
   "execution_count": 11,
   "id": "522ce217-8b7e-4a79-b01a-265f7ceb1c7d",
   "metadata": {},
   "outputs": [
    {
     "name": "stdout",
     "output_type": "stream",
     "text": [
      "helloworld\n"
     ]
    }
   ],
   "source": [
    "x=\"hello\"\n",
    "y=\"world\"\n",
    "z=x+y\n",
    "print(z)"
   ]
  },
  {
   "cell_type": "code",
   "execution_count": 16,
   "id": "f606c0e9-e77d-424e-8120-ee81b107ab91",
   "metadata": {},
   "outputs": [
    {
     "name": "stdout",
     "output_type": "stream",
     "text": [
      "hellohellohello\n"
     ]
    }
   ],
   "source": [
    "x=\"hello\"*3\n",
    "print(x)"
   ]
  },
  {
   "cell_type": "code",
   "execution_count": 17,
   "id": "cfdce644-afec-46ce-bed4-e932e7fdd89a",
   "metadata": {},
   "outputs": [
    {
     "data": {
      "text/plain": [
       "15"
      ]
     },
     "execution_count": 17,
     "metadata": {},
     "output_type": "execute_result"
    }
   ],
   "source": [
    "len(x)"
   ]
  },
  {
   "cell_type": "code",
   "execution_count": 22,
   "id": "a2f48baa-b524-4a90-9951-f684dc2d9549",
   "metadata": {},
   "outputs": [
    {
     "name": "stdout",
     "output_type": "stream",
     "text": [
      "true\n"
     ]
    }
   ],
   "source": [
    "x=\"this is satara\"\n",
    "if \"satara\" in x:\n",
    "    print(\"true\")"
   ]
  },
  {
   "cell_type": "code",
   "execution_count": null,
   "id": "5bc59b4f-e79b-40ac-ab6b-9177aad2671f",
   "metadata": {},
   "outputs": [],
   "source": []
  }
 ],
 "metadata": {
  "kernelspec": {
   "display_name": "Python 3 (ipykernel)",
   "language": "python",
   "name": "python3"
  },
  "language_info": {
   "codemirror_mode": {
    "name": "ipython",
    "version": 3
   },
   "file_extension": ".py",
   "mimetype": "text/x-python",
   "name": "python",
   "nbconvert_exporter": "python",
   "pygments_lexer": "ipython3",
   "version": "3.11.7"
  }
 },
 "nbformat": 4,
 "nbformat_minor": 5
}
