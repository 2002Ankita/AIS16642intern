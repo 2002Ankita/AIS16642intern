{
 "cells": [
  {
   "cell_type": "markdown",
   "id": "c816647e-d55d-446e-ad79-0117c9fa0d8d",
   "metadata": {},
   "source": [
    "#statistical userdefine functions\n",
    "In python ,a user defined function's declaration begins with the keyword def and followed by the function name .\n",
    "The function may take arguments(s) as input within the opening and closing prenthesis,just after the function name followed by a colon.\n",
    "Creating a user defined statistical function that can calculate various statitical measures based on a given dataset, statistical measures such as \n",
    "mean,median,standard deviation,etc."
   ]
  },
  {
   "cell_type": "code",
   "execution_count": 1,
   "id": "3f746471-4879-4e20-9060-da791e1e5b8b",
   "metadata": {},
   "outputs": [
    {
     "name": "stdout",
     "output_type": "stream",
     "text": [
      "Mean: 300\n"
     ]
    }
   ],
   "source": [
    "import statistics\n",
    "def calculate_mean(data):\n",
    "    return statistics.mean(data)\n",
    "data=[100,200,300,400,500]\n",
    "mean_value=calculate_mean(data)\n",
    "print(\"Mean:\",mean_value)"
   ]
  },
  {
   "cell_type": "code",
   "execution_count": 2,
   "id": "1fad9129-9f05-4fd4-8b2b-b487853f61cd",
   "metadata": {},
   "outputs": [
    {
     "name": "stdout",
     "output_type": "stream",
     "text": [
      "Median: 300\n"
     ]
    }
   ],
   "source": [
    "import statistics\n",
    "def calculate_median(data):\n",
    "    return statistics.median(data)\n",
    "data=[100,200,300,400,500]\n",
    "median_value=calculate_median(data)\n",
    "print(\"Median:\",median_value)"
   ]
  },
  {
   "cell_type": "code",
   "execution_count": 3,
   "id": "167b384a-99d3-4ef8-a329-2c5719bedc2b",
   "metadata": {},
   "outputs": [
    {
     "name": "stdout",
     "output_type": "stream",
     "text": [
      "Mode: 50\n"
     ]
    }
   ],
   "source": [
    "import statistics\n",
    "def calculate_mode(data):\n",
    "    return statistics.mode(data)\n",
    "data=[10,20,30,40,50,50]\n",
    "mode_value=calculate_mode(data)\n",
    "print(\"Mode:\",mode_value)"
   ]
  },
  {
   "cell_type": "code",
   "execution_count": 4,
   "id": "40058608-0ccc-44be-b15b-8db9bdd93770",
   "metadata": {},
   "outputs": [
    {
     "name": "stdout",
     "output_type": "stream",
     "text": [
      "standard deviation: 158.11388300841898\n"
     ]
    }
   ],
   "source": [
    "import statistics\n",
    "def calculate_std_deviation(data):\n",
    "    return statistics.stdev(data)\n",
    "data=[100,200,300,400,500]\n",
    "std_deviation_value=calculate_std_deviation(data)\n",
    "print(\"standard deviation:\",std_deviation_value)"
   ]
  },
  {
   "cell_type": "code",
   "execution_count": 5,
   "id": "9c553e17-bedf-4550-9d41-f6febc2a8b6f",
   "metadata": {},
   "outputs": [
    {
     "name": "stdout",
     "output_type": "stream",
     "text": [
      "variance: 25000\n"
     ]
    }
   ],
   "source": [
    "import statistics\n",
    "def calculate_variance(data):\n",
    "    return statistics.variance(data)\n",
    "data=[100,200,300,400,500]\n",
    "variance_value=calculate_variance(data)\n",
    "print(\"variance:\",variance_value)"
   ]
  },
  {
   "cell_type": "code",
   "execution_count": 6,
   "id": "8ecc10fd-3bfc-4642-9505-fe3e30d0db9a",
   "metadata": {},
   "outputs": [
    {
     "name": "stdout",
     "output_type": "stream",
     "text": [
      "Range: 40\n"
     ]
    }
   ],
   "source": [
    "import statistics\n",
    "def calculate_range(data):\n",
    "    return max(data)-min(data)\n",
    "data=[10,20,30,40,50,50]\n",
    "range_value=calculate_range(data)\n",
    "print(\"Range:\",range_value)"
   ]
  },
  {
   "cell_type": "code",
   "execution_count": 7,
   "id": "45c7dab3-6487-4f14-9643-4a324aa633f0",
   "metadata": {},
   "outputs": [
    {
     "name": "stdout",
     "output_type": "stream",
     "text": [
      "Inter Quirtile Range: 25.0\n"
     ]
    }
   ],
   "source": [
    "import numpy as np\n",
    "def calculate_iqr(data):\n",
    "    q1,q3=np.percentile(data,[25,75])\n",
    "    return q3-q1\n",
    "data=[10,20,30,40,50,50]\n",
    "iqr_value=calculate_iqr(data)\n",
    "print(\"Inter Quirtile Range:\",iqr_value)"
   ]
  },
  {
   "cell_type": "code",
   "execution_count": 8,
   "id": "ac3cd8d9-f7fa-4466-9d87-0882f969a1a4",
   "metadata": {},
   "outputs": [
    {
     "name": "stdout",
     "output_type": "stream",
     "text": [
      "Quirtiles: [22.5 35.  47.5]\n"
     ]
    }
   ],
   "source": [
    "import numpy as np\n",
    "def calculate_quartiles(data):\n",
    "    return np.percentile(data,[25,50,75])\n",
    "data=[10,20,30,40,50,50]\n",
    "quartiles=calculate_quartiles(data)\n",
    "print(\"Quirtiles:\",quartiles)"
   ]
  },
  {
   "cell_type": "code",
   "execution_count": 20,
   "id": "7a1206f4-1d73-4193-9288-8c053f557de6",
   "metadata": {},
   "outputs": [
    {
     "name": "stdout",
     "output_type": "stream",
     "text": [
      "coefficient of variation: 52.70462766947299\n"
     ]
    }
   ],
   "source": [
    "def calculate_coefficient_of_variation(data):\n",
    "    mean=statistics.mean(data)\n",
    "    std_dev=statistics.stdev(data)\n",
    "    return(std_dev/mean)*100 if mean!=0 else 0\n",
    "data=[100,200,300,400,500]\n",
    "cv_value=calculate_coefficient_of_variation(data)\n",
    "print(\"coefficient of variation:\",cv_value)"
   ]
  },
  {
   "cell_type": "code",
   "execution_count": 22,
   "id": "d99c8822-ddaa-4e5d-a36c-e4cdb2a67dba",
   "metadata": {},
   "outputs": [
    {
     "name": "stdout",
     "output_type": "stream",
     "text": [
      "skewness: 0.0\n"
     ]
    }
   ],
   "source": [
    "from scipy.stats import skew\n",
    "def calculate_skewness(data):\n",
    "    return skew(data)\n",
    "data=[100,200,300,400,500]\n",
    "skewness_value=calculate_skewness(data)\n",
    "print(\"skewness:\",skewness_value)"
   ]
  },
  {
   "cell_type": "code",
   "execution_count": null,
   "id": "4e3a3588-953b-483d-8c86-44c76223ca67",
   "metadata": {},
   "outputs": [],
   "source": []
  }
 ],
 "metadata": {
  "kernelspec": {
   "display_name": "Python 3 (ipykernel)",
   "language": "python",
   "name": "python3"
  },
  "language_info": {
   "codemirror_mode": {
    "name": "ipython",
    "version": 3
   },
   "file_extension": ".py",
   "mimetype": "text/x-python",
   "name": "python",
   "nbconvert_exporter": "python",
   "pygments_lexer": "ipython3",
   "version": "3.11.7"
  }
 },
 "nbformat": 4,
 "nbformat_minor": 5
}
