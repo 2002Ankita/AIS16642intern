{
 "cells": [
  {
   "cell_type": "markdown",
   "id": "867935ba-6120-4f34-a99f-e1b6f74fca6e",
   "metadata": {},
   "source": [
    "#variable declaration rule\n",
    "A variable can have a short name (like x and y) or a more descriptive name (age, carname, total_volume). Rules for Python variables:\r\n",
    "A variable name must start with a letter or the underscore character\r\n",
    "A variable name cannot start with a number\r\n",
    "A variable name can only contain alpha-numeric characters and underscores (A-z, 0-9, and _ )\r\n",
    "Variable names are case-sensitive (age, Age and AGE are three different variables)\r\n",
    "A variable name cannot be any of the Python keyords."
   ]
  },
  {
   "cell_type": "code",
   "execution_count": 5,
   "id": "0e2e8d70-e332-46b8-9e91-52d943c91852",
   "metadata": {},
   "outputs": [
    {
     "name": "stdout",
     "output_type": "stream",
     "text": [
      "ankita\n"
     ]
    }
   ],
   "source": [
    "var=\"ankita\"\n",
    "print(var)"
   ]
  },
  {
   "cell_type": "code",
   "execution_count": 6,
   "id": "71788170-efae-47c6-825c-58c369b07888",
   "metadata": {},
   "outputs": [
    {
     "name": "stdout",
     "output_type": "stream",
     "text": [
      "10\n"
     ]
    }
   ],
   "source": [
    "_var=10\n",
    "print(_var)"
   ]
  },
  {
   "cell_type": "code",
   "execution_count": 7,
   "id": "e782c853-f99f-4f83-ab23-9268713c7674",
   "metadata": {},
   "outputs": [
    {
     "ename": "SyntaxError",
     "evalue": "invalid decimal literal (426186648.py, line 1)",
     "output_type": "error",
     "traceback": [
      "\u001b[1;36m  Cell \u001b[1;32mIn[7], line 1\u001b[1;36m\u001b[0m\n\u001b[1;33m    10var=20\u001b[0m\n\u001b[1;37m     ^\u001b[0m\n\u001b[1;31mSyntaxError\u001b[0m\u001b[1;31m:\u001b[0m invalid decimal literal\n"
     ]
    }
   ],
   "source": [
    "10var=20\n",
    "print(10var)"
   ]
  },
  {
   "cell_type": "code",
   "execution_count": null,
   "id": "80d20dc3-4caf-4cc7-ab13-95325b2da76b",
   "metadata": {},
   "outputs": [],
   "source": []
  }
 ],
 "metadata": {
  "kernelspec": {
   "display_name": "Python 3 (ipykernel)",
   "language": "python",
   "name": "python3"
  },
  "language_info": {
   "codemirror_mode": {
    "name": "ipython",
    "version": 3
   },
   "file_extension": ".py",
   "mimetype": "text/x-python",
   "name": "python",
   "nbconvert_exporter": "python",
   "pygments_lexer": "ipython3",
   "version": "3.11.7"
  }
 },
 "nbformat": 4,
 "nbformat_minor": 5
}
