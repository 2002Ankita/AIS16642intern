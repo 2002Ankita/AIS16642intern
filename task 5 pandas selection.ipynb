{
 "cells": [
  {
   "cell_type": "code",
   "execution_count": 3,
   "id": "b4082388-d8bf-4f1f-abd7-7510fcac1259",
   "metadata": {},
   "outputs": [],
   "source": [
    "#selection:\n",
    "import pandas as pd\n",
    "data={'Name':['Alice','Bob','charlie','David','Evil'],\n",
    "      'Age':[24,27,22,32,29],\n",
    "      'city':['New York','Los Angeles','chicago','Houston','Phoenix']\n",
    "}\n",
    "df=pd.DataFrame(data)"
   ]
  },
  {
   "cell_type": "code",
   "execution_count": 5,
   "id": "08697f3b-da19-4a9a-aedb-ee914c12588e",
   "metadata": {},
   "outputs": [
    {
     "name": "stdout",
     "output_type": "stream",
     "text": [
      "0      Alice\n",
      "1        Bob\n",
      "2    charlie\n",
      "3      David\n",
      "4       Evil\n",
      "Name: Name, dtype: object\n"
     ]
    }
   ],
   "source": [
    "#selecting the 'Name' column:\n",
    "name_column=df[\"Name\"]\n",
    "print(name_column)\n"
   ]
  },
  {
   "cell_type": "code",
   "execution_count": 8,
   "id": "18f19d44-5f2e-49d6-9a10-5080d19611be",
   "metadata": {},
   "outputs": [
    {
     "name": "stdout",
     "output_type": "stream",
     "text": [
      "      Name  Age\n",
      "0    Alice   24\n",
      "1      Bob   27\n",
      "2  charlie   22\n",
      "3    David   32\n",
      "4     Evil   29\n"
     ]
    }
   ],
   "source": [
    "#selecting name and age column\n",
    "name_age_columns=df[['Name','Age']]\n",
    "print(name_age_columns)"
   ]
  },
  {
   "cell_type": "code",
   "execution_count": 11,
   "id": "d4de2359-ad8f-45bf-ad10-eb3810a9e01a",
   "metadata": {},
   "outputs": [
    {
     "name": "stdout",
     "output_type": "stream",
     "text": [
      "Name    charlie\n",
      "Age          22\n",
      "city    chicago\n",
      "Name: 2, dtype: object\n"
     ]
    }
   ],
   "source": [
    "#selecting rows with label 1\n",
    "row_by_label=df.loc[1]\n",
    "print(row_by_label)"
   ]
  },
  {
   "cell_type": "code",
   "execution_count": 10,
   "id": "3c00929a-2bd8-4e6d-a12d-e60e2a9198de",
   "metadata": {},
   "outputs": [
    {
     "name": "stdout",
     "output_type": "stream",
     "text": [
      "Name    charlie\n",
      "Age          22\n",
      "city    chicago\n",
      "Name: 2, dtype: object\n"
     ]
    }
   ],
   "source": [
    "#By Position('iloc')\n",
    "row_by_position=df.iloc[2]\n",
    "print(row_by_position)"
   ]
  },
  {
   "cell_type": "code",
   "execution_count": 13,
   "id": "89e6fb90-f672-401c-884b-53e022c8bb10",
   "metadata": {},
   "outputs": [
    {
     "name": "stdout",
     "output_type": "stream",
     "text": [
      "      Name         city\n",
      "1      Bob  Los Angeles\n",
      "2  charlie      chicago\n",
      "3    David      Houston\n"
     ]
    }
   ],
   "source": [
    "subset_by_label=df.loc[1:3,['Name','city']]\n",
    "print(subset_by_label)"
   ]
  },
  {
   "cell_type": "code",
   "execution_count": 14,
   "id": "c66014af-0be0-49ea-88e9-5b451d9697d8",
   "metadata": {},
   "outputs": [
    {
     "name": "stdout",
     "output_type": "stream",
     "text": [
      "      Name  Age\n",
      "1      Bob   27\n",
      "2  charlie   22\n",
      "3    David   32\n"
     ]
    }
   ],
   "source": [
    "#selecting specific rows and columns by position\n",
    "subset_by_position=df.iloc[1:4,0:2]\n",
    "print(subset_by_position)"
   ]
  },
  {
   "cell_type": "code",
   "execution_count": 15,
   "id": "912cfa71-7b2e-4a99-aad8-3c13084afe96",
   "metadata": {},
   "outputs": [
    {
     "name": "stdout",
     "output_type": "stream",
     "text": [
      "    Name  Age         city\n",
      "1    Bob   27  Los Angeles\n",
      "3  David   32      Houston\n",
      "4   Evil   29      Phoenix\n"
     ]
    }
   ],
   "source": [
    "#conditional selection\n",
    "#selecting rows where 'Age' is greater than 25\n",
    "age_greater_25=df[df['Age']>25]\n",
    "print(age_greater_25)"
   ]
  },
  {
   "cell_type": "code",
   "execution_count": 18,
   "id": "486979b5-e03b-4a26-b5a1-b5d739c68ccd",
   "metadata": {},
   "outputs": [
    {
     "name": "stdout",
     "output_type": "stream",
     "text": [
      "Empty DataFrame\n",
      "Columns: [Name, Age, city]\n",
      "Index: []\n"
     ]
    }
   ],
   "source": [
    "#selecting rows where 'Age' is greater than 25 and city is 'new York'\n",
    "conditioned_rows=df[(df['Age']>25)&(df['city']=='New York')]\n",
    "print(conditioned_rows)"
   ]
  },
  {
   "cell_type": "code",
   "execution_count": 19,
   "id": "d0fb68ab-c8d3-4339-926a-2a23c2f62077",
   "metadata": {},
   "outputs": [
    {
     "name": "stdout",
     "output_type": "stream",
     "text": [
      "\n",
      "DataFrame after adding 'Country' column:\n",
      "       Name  Age         city Country\n",
      "0    Alice   24     New York     USA\n",
      "1      Bob   27  Los Angeles     USA\n",
      "2  charlie   22      chicago     USA\n",
      "3    David   32      Houston     USA\n",
      "4     Evil   29      Phoenix     USA\n"
     ]
    }
   ],
   "source": [
    "#Adding a new column 'Country' with a constant value\n",
    "df['Country']='USA'\n",
    "print(\"\\nDataFrame after adding 'Country' column:\\n\",df)"
   ]
  },
  {
   "cell_type": "code",
   "execution_count": 20,
   "id": "3750ddbe-8a9a-463d-8c07-be961048ae0f",
   "metadata": {},
   "outputs": [
    {
     "name": "stdout",
     "output_type": "stream",
     "text": [
      "\n",
      "DataFrame after deleting 'City' column:\n",
      "       Name  Age Country\n",
      "0    Alice   24     USA\n",
      "1      Bob   27     USA\n",
      "2  charlie   22     USA\n",
      "3    David   32     USA\n",
      "4     Evil   29     USA\n"
     ]
    }
   ],
   "source": [
    "#Deleting the 'city' column\n",
    "df=df.drop(columns=['city'])\n",
    "print(\"\\nDataFrame after deleting 'City' column:\\n\",df)"
   ]
  },
  {
   "cell_type": "code",
   "execution_count": 21,
   "id": "baec8642-d56c-4c2c-9140-e49fe54047b1",
   "metadata": {},
   "outputs": [
    {
     "name": "stdout",
     "output_type": "stream",
     "text": [
      "\n",
      "DataFrame after deleting 'City' column:\n",
      "       Name  Age\n",
      "0    Alice   24\n",
      "1      Bob   27\n",
      "2  charlie   22\n",
      "3    David   32\n",
      "4     Evil   29\n"
     ]
    }
   ],
   "source": [
    "#Deleting the Country Column\n",
    "del df['Country']\n",
    "print(\"\\nDataFrame after deleting 'City' column:\\n\",df)"
   ]
  },
  {
   "cell_type": "code",
   "execution_count": 23,
   "id": "1ed345f4-e5a1-4c2d-9b96-9ee156d78d04",
   "metadata": {},
   "outputs": [
    {
     "name": "stdout",
     "output_type": "stream",
     "text": [
      "\n",
      "DataFrame after updating  'Age' column:\n",
      "       Name  Age\n",
      "0    Alice   26\n",
      "1      Bob   29\n",
      "2  charlie   24\n",
      "3    David   34\n",
      "4     Evil   31\n"
     ]
    }
   ],
   "source": [
    "#updating Column\n",
    "#updating the 'Age' column to be increased by 1\n",
    "df['Age']=df['Age']+1\n",
    "print(\"\\nDataFrame after updating  'Age' column:\\n\",df)\n"
   ]
  },
  {
   "cell_type": "code",
   "execution_count": 24,
   "id": "46fa2a57-debf-4142-be0c-11daac953eda",
   "metadata": {},
   "outputs": [
    {
     "name": "stdout",
     "output_type": "stream",
     "text": [
      "\n",
      "DataFrame with 'Name' as the index:\n",
      "          Age\n",
      "Name        \n",
      "Alice     26\n",
      "Bob       29\n",
      "charlie   24\n",
      "David     34\n",
      "Evil      31\n"
     ]
    }
   ],
   "source": [
    "#setting \"Name\" as index\n",
    "df_with_index=df.set_index('Name')\n",
    "print(\"\\nDataFrame with 'Name' as the index:\\n\",df_with_index)"
   ]
  },
  {
   "cell_type": "code",
   "execution_count": 25,
   "id": "c41e7d5e-0ddf-4b69-8196-003dd4b54908",
   "metadata": {},
   "outputs": [
    {
     "name": "stdout",
     "output_type": "stream",
     "text": [
      "\n",
      "DataFrame after removing the index:\n",
      "       Name  Age\n",
      "0    Alice   26\n",
      "1      Bob   29\n",
      "2  charlie   24\n",
      "3    David   34\n",
      "4     Evil   31\n"
     ]
    }
   ],
   "source": [
    "#Dropping to index to remove it\n",
    "df_no_index=df.reset_index(drop=True)\n",
    "print(\"\\nDataFrame after removing the index:\\n\",df_no_index)"
   ]
  },
  {
   "cell_type": "code",
   "execution_count": 26,
   "id": "4e1202db-fed9-4678-85e3-f2c710f7b375",
   "metadata": {},
   "outputs": [
    {
     "name": "stdout",
     "output_type": "stream",
     "text": [
      "Original DataFrame:\n",
      "     A  B\n",
      "0  10  1\n",
      "1  20  2\n",
      "2  30  3\n",
      "3  40  4\n",
      "4  50  5\n"
     ]
    }
   ],
   "source": [
    "#Operation\n",
    "data={\n",
    "    'A':[10,20,30,40,50],\n",
    "    'B':[1,2,3,4,5]\n",
    "}\n",
    "df=pd.DataFrame(data)\n",
    "print(\"Original DataFrame:\\n\",df)"
   ]
  },
  {
   "cell_type": "code",
   "execution_count": 31,
   "id": "d3dce08e-fbfe-4b6d-86c4-7c1ef9137a16",
   "metadata": {},
   "outputs": [
    {
     "name": "stdout",
     "output_type": "stream",
     "text": [
      "\n",
      "DataFrame after adding column 'A' and 'B':\n",
      "     A  B  A_plus_B\n",
      "0  10  1        11\n",
      "1  20  2        22\n",
      "2  30  3        33\n",
      "3  40  4        44\n",
      "4  50  5        55\n"
     ]
    }
   ],
   "source": [
    "#Addition\n",
    "df['A_plus_B']=df['A']+df['B']\n",
    "print(\"\\nDataFrame after adding column 'A' and 'B':\\n\",df)"
   ]
  },
  {
   "cell_type": "code",
   "execution_count": 32,
   "id": "287c1171-e342-4c26-9552-49d95c740d7e",
   "metadata": {},
   "outputs": [
    {
     "name": "stdout",
     "output_type": "stream",
     "text": [
      "\n",
      "DataFrame after substracting column 'A' and 'B':\n",
      "     A  B  A_plus_B  A_minus_B\n",
      "0  10  1        11          9\n",
      "1  20  2        22         18\n",
      "2  30  3        33         27\n",
      "3  40  4        44         36\n",
      "4  50  5        55         45\n"
     ]
    }
   ],
   "source": [
    "#Substraction\n",
    "df['A_minus_B']=df['A']-df['B']\n",
    "print(\"\\nDataFrame after substracting column 'A' and 'B':\\n\",df)"
   ]
  },
  {
   "cell_type": "code",
   "execution_count": 33,
   "id": "110c0e35-c9cc-494f-a353-c5a5deff136e",
   "metadata": {},
   "outputs": [
    {
     "name": "stdout",
     "output_type": "stream",
     "text": [
      "\n",
      "DataFrame after multiplying  column 'A' and 'B':\n",
      "     A  B  A_plus_B  A_minus_B  A_times_B\n",
      "0  10  1        11          9         10\n",
      "1  20  2        22         18         40\n",
      "2  30  3        33         27         90\n",
      "3  40  4        44         36        160\n",
      "4  50  5        55         45        250\n"
     ]
    }
   ],
   "source": [
    "#Multiplication\n",
    "df['A_times_B']=df['A']*df['B']\n",
    "print(\"\\nDataFrame after multiplying  column 'A' and 'B':\\n\",df)"
   ]
  },
  {
   "cell_type": "code",
   "execution_count": 34,
   "id": "f544201d-a2d6-4e16-bba2-282cca58fc18",
   "metadata": {},
   "outputs": [
    {
     "name": "stdout",
     "output_type": "stream",
     "text": [
      "\n",
      "DataFrame after dividing  column 'A' by 'B':\n",
      "     A  B  A_plus_B  A_minus_B  A_times_B  A_div_B\n",
      "0  10  1        11          9         10     10.0\n",
      "1  20  2        22         18         40     10.0\n",
      "2  30  3        33         27         90     10.0\n",
      "3  40  4        44         36        160     10.0\n",
      "4  50  5        55         45        250     10.0\n"
     ]
    }
   ],
   "source": [
    "#Division\n",
    "df['A_div_B']=df['A']/df['B']\n",
    "print(\"\\nDataFrame after dividing  column 'A' by 'B':\\n\",df)"
   ]
  },
  {
   "cell_type": "code",
   "execution_count": null,
   "id": "e083d984-e9ac-45e7-bb80-3f1770e075bf",
   "metadata": {},
   "outputs": [],
   "source": []
  }
 ],
 "metadata": {
  "kernelspec": {
   "display_name": "Python 3 (ipykernel)",
   "language": "python",
   "name": "python3"
  },
  "language_info": {
   "codemirror_mode": {
    "name": "ipython",
    "version": 3
   },
   "file_extension": ".py",
   "mimetype": "text/x-python",
   "name": "python",
   "nbconvert_exporter": "python",
   "pygments_lexer": "ipython3",
   "version": "3.11.7"
  }
 },
 "nbformat": 4,
 "nbformat_minor": 5
}
