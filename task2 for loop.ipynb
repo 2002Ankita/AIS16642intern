{
 "cells": [
  {
   "cell_type": "code",
   "execution_count": 1,
   "id": "d85f45da-d2d9-4d0c-8131-cb6bdd845f50",
   "metadata": {},
   "outputs": [],
   "source": [
    "#for loop\n",
    "#A for loop is used for iterating over a sequence (that is either a list, a tuple, a dictionary, a set, or a string).\n",
    "#This is less like the for keyword in other programming languages, and works more like an iterator method as found in other object-orientated programming languages.\n",
    "#With the for loop we can execute a set of statements, once for each item in a list, tuple, set etc.\n"
   ]
  },
  {
   "cell_type": "code",
   "execution_count": 29,
   "id": "4d9fd890-180c-4c1f-a1f2-053d5815f544",
   "metadata": {},
   "outputs": [
    {
     "name": "stdout",
     "output_type": "stream",
     "text": [
      "apple\n",
      "banana\n",
      "cherry\n"
     ]
    }
   ],
   "source": [
    "#1\n",
    "fruits = [\"apple\", \"banana\", \"cherry\"]\n",
    "for x in fruits:\n",
    "  print(x)\n",
    "    \n"
   ]
  },
  {
   "cell_type": "code",
   "execution_count": 30,
   "id": "c32c4c5a-3698-40f0-84dd-fae6ef8b5f86",
   "metadata": {},
   "outputs": [
    {
     "name": "stdout",
     "output_type": "stream",
     "text": [
      "b\n",
      "a\n",
      "n\n",
      "a\n",
      "n\n",
      "a\n"
     ]
    }
   ],
   "source": [
    "#2\n",
    "for x in \"banana\":\n",
    "  print(x)"
   ]
  },
  {
   "cell_type": "code",
   "execution_count": 32,
   "id": "5d732772-76d1-40fa-a200-163820a0d4d9",
   "metadata": {},
   "outputs": [
    {
     "name": "stdout",
     "output_type": "stream",
     "text": [
      "satara\n",
      "pune\n",
      "mumbai\n"
     ]
    }
   ],
   "source": [
    "#3\n",
    "cities=[\"satara\",\"pune\",\"mumbai\"]\n",
    "for v in cities:\n",
    "    print(v)"
   ]
  },
  {
   "cell_type": "code",
   "execution_count": 33,
   "id": "72ad7046-714b-4631-9318-e4bde6a1f599",
   "metadata": {},
   "outputs": [
    {
     "name": "stdout",
     "output_type": "stream",
     "text": [
      "square 121\n",
      "square 3025\n",
      "square 36\n",
      "square 64\n"
     ]
    }
   ],
   "source": [
    "#4\n",
    "num=[11,55,6,8]\n",
    "for i in num:\n",
    "    sq=i*i\n",
    "    print(\"square\",sq)"
   ]
  },
  {
   "cell_type": "code",
   "execution_count": 34,
   "id": "47320564-8668-4036-9519-9aea8eee5f85",
   "metadata": {},
   "outputs": [
    {
     "name": "stdout",
     "output_type": "stream",
     "text": [
      "even\n",
      "even\n",
      "even\n"
     ]
    }
   ],
   "source": [
    "#5\n",
    "num=[19,50,6,8]\n",
    "for v in num:\n",
    "  if v%2==0:\n",
    "        print(\"even\")"
   ]
  },
  {
   "cell_type": "code",
   "execution_count": 35,
   "id": "5fe139c5-7c12-4f4e-a985-af0a794a6810",
   "metadata": {},
   "outputs": [
    {
     "name": "stdout",
     "output_type": "stream",
     "text": [
      "apple\n"
     ]
    }
   ],
   "source": [
    "#6\n",
    "fruits = [\"apple\", \"banana\", \"cherry\"]\n",
    "for x in fruits:\n",
    "  if x == \"banana\":\n",
    "    break\n",
    "  print(x)"
   ]
  },
  {
   "cell_type": "code",
   "execution_count": 37,
   "id": "1381dcd2-a412-41c2-8a24-9b28411daa0c",
   "metadata": {},
   "outputs": [
    {
     "name": "stdout",
     "output_type": "stream",
     "text": [
      "table of 5\n",
      "5\n",
      "10\n",
      "15\n",
      "20\n",
      "25\n",
      "30\n",
      "35\n",
      "40\n",
      "45\n",
      "50\n"
     ]
    }
   ],
   "source": [
    "#7\n",
    "print(\"table of 5\")\n",
    "for i in range (5,55,5):\n",
    "    print(i)"
   ]
  },
  {
   "cell_type": "code",
   "execution_count": 38,
   "id": "5cdfa922-6a09-42a1-96e6-88594e33bd29",
   "metadata": {},
   "outputs": [
    {
     "name": "stdout",
     "output_type": "stream",
     "text": [
      "count of pos no 3\n",
      "count of neg no 0\n",
      "count of zero no 1\n"
     ]
    }
   ],
   "source": [
    "#8\n",
    "n=[11,9,7-2,0]\n",
    "pos=0\n",
    "neg=0\n",
    "zero=0\n",
    "for v in n:\n",
    "    if v>0:\n",
    "        pos=pos+1\n",
    "    elif v<0:\n",
    "        neg=neg+1\n",
    "    else:\n",
    "        zero=zero+1\n",
    "print(\"count of pos no\",pos)\n",
    "print(\"count of neg no\",neg)\n",
    "print(\"count of zero no\",zero)"
   ]
  },
  {
   "cell_type": "code",
   "execution_count": 39,
   "id": "f1f08500-c2f0-4ad0-800c-b4699f4ef0cd",
   "metadata": {},
   "outputs": [
    {
     "name": "stdout",
     "output_type": "stream",
     "text": [
      "0\n",
      "1\n",
      "2\n",
      "3\n"
     ]
    }
   ],
   "source": [
    "#9\n",
    "for i in range(4):\n",
    "    print(i)"
   ]
  },
  {
   "cell_type": "code",
   "execution_count": 40,
   "id": "7c35018b-4d53-4902-9bb0-5fbb2a4979fb",
   "metadata": {},
   "outputs": [
    {
     "name": "stdout",
     "output_type": "stream",
     "text": [
      "1\n",
      "3\n",
      "5\n",
      "7\n",
      "9\n"
     ]
    }
   ],
   "source": [
    "#10\n",
    "for i in range(10):\n",
    "    if i%2==0:\n",
    "        continue\n",
    "    print(i)    "
   ]
  },
  {
   "cell_type": "code",
   "execution_count": null,
   "id": "76924eaa-2cd5-4942-94b4-827ec37b00e5",
   "metadata": {},
   "outputs": [],
   "source": []
  }
 ],
 "metadata": {
  "kernelspec": {
   "display_name": "Python 3 (ipykernel)",
   "language": "python",
   "name": "python3"
  },
  "language_info": {
   "codemirror_mode": {
    "name": "ipython",
    "version": 3
   },
   "file_extension": ".py",
   "mimetype": "text/x-python",
   "name": "python",
   "nbconvert_exporter": "python",
   "pygments_lexer": "ipython3",
   "version": "3.11.7"
  }
 },
 "nbformat": 4,
 "nbformat_minor": 5
}
