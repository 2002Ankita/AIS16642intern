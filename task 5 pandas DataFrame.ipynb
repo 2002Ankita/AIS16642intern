{
 "cells": [
  {
   "cell_type": "code",
   "execution_count": 1,
   "id": "c5f59b9a-56a2-4b8f-9673-26f9e1e3246a",
   "metadata": {},
   "outputs": [
    {
     "name": "stdout",
     "output_type": "stream",
     "text": [
      "   calories  duration\n",
      "0       420        50\n",
      "1       380        40\n",
      "2       390        45\n"
     ]
    }
   ],
   "source": [
    "#DataFrame:\n",
    "#DataFrames\n",
    "#Data sets in Pandas are usually multi-dimensional tables, called DataFrames.\n",
    "#Series is like a column, a DataFrame is the whole table.\n",
    "#Example\n",
    "#Create a DataFrame from two Series:\n",
    "import pandas as pd\n",
    "data = {\n",
    "  \"calories\": [420, 380, 390],\n",
    "  \"duration\": [50, 40, 45]\n",
    "}\n",
    "myvar = pd.DataFrame(data)\n",
    "print(myvar)"
   ]
  },
  {
   "cell_type": "code",
   "execution_count": 3,
   "id": "293e2ee2-5017-40e6-be55-bfdb6f03a725",
   "metadata": {},
   "outputs": [
    {
     "name": "stdout",
     "output_type": "stream",
     "text": [
      "calories    420\n",
      "duration     50\n",
      "Name: 0, dtype: int64\n"
     ]
    }
   ],
   "source": [
    "#Locate Row\n",
    "#As you can see from the result above, the DataFrame is like a table with rows and columns.\n",
    "#Pandas use the loc attribute to return one or more specified row(s)\n",
    "#Example\n",
    "#Return row 0:\n",
    "#refer to the row index:\n",
    "print(myvar.loc[0])"
   ]
  },
  {
   "cell_type": "code",
   "execution_count": 4,
   "id": "a2c1c5ad-aa5f-4e48-9ec7-5e852fc9c1ea",
   "metadata": {},
   "outputs": [
    {
     "name": "stdout",
     "output_type": "stream",
     "text": [
      "      calories  duration\n",
      "day1       420        50\n",
      "day2       380        40\n",
      "day3       390        45\n"
     ]
    }
   ],
   "source": [
    "#Named Indexes\n",
    "#With the index argument, you can name your own indexes.\n",
    "#Example\n",
    "#Add a list of names to give each row a name:\n",
    "import pandas as pd\n",
    "data = {\n",
    "  \"calories\": [420, 380, 390],\n",
    "  \"duration\": [50, 40, 45]\n",
    "}\n",
    "df = pd.DataFrame(data, index = [\"day1\", \"day2\", \"day3\"])\n",
    "print(df) "
   ]
  },
  {
   "cell_type": "code",
   "execution_count": 5,
   "id": "83a6d19e-7ccf-49ac-a6c9-298c8838771b",
   "metadata": {},
   "outputs": [
    {
     "name": "stdout",
     "output_type": "stream",
     "text": [
      "    day\n",
      "0   mon\n",
      "1   tue\n",
      "2   wed\n",
      "3  thur\n",
      "4   fri\n",
      "5   sat\n",
      "6   sun\n"
     ]
    }
   ],
   "source": [
    "#Load Files Into a DataFrame\n",
    "#If your data sets are stored in a file, Pandas can load them into a DataFrame.\n",
    "#Example\n",
    "#Load a comma separated file (CSV file) into a DataFrame:\n",
    "import pandas as pd\n",
    "df = pd.read_csv('data.csv')\n",
    "print(df) "
   ]
  },
  {
   "cell_type": "code",
   "execution_count": 6,
   "id": "f139f1ac-ede5-4337-91e0-8481e77d109a",
   "metadata": {},
   "outputs": [
    {
     "name": "stdout",
     "output_type": "stream",
     "text": [
      "    day\n",
      "0   mon\n",
      "1   tue\n",
      "2   wed\n",
      "3  thur\n",
      "4   fri\n",
      "5   sat\n",
      "6   sun\n"
     ]
    }
   ],
   "source": [
    "#Load the CSV into a DataFrame:\n",
    "\n",
    "import pandas as pd\n",
    "\n",
    "df = pd.read_csv('data.csv')\n",
    "\n",
    "print(df.to_string()) "
   ]
  },
  {
   "cell_type": "code",
   "execution_count": 2,
   "id": "42604667-b286-42c0-9de2-0064d298b833",
   "metadata": {},
   "outputs": [
    {
     "name": "stdout",
     "output_type": "stream",
     "text": [
      "Requirement already satisfied: openpyxl in c:\\users\\hp\\anaconda3\\lib\\site-packages (3.0.10)\n",
      "Requirement already satisfied: et_xmlfile in c:\\users\\hp\\anaconda3\\lib\\site-packages (from openpyxl) (1.1.0)\n",
      "    day\n",
      "0   mon\n",
      "1   tue\n",
      "2   wed\n",
      "3  thur\n",
      "4   fri\n",
      "5   sat\n",
      "6   sun\n"
     ]
    }
   ],
   "source": [
    "#Load the xlxsinto a DataFrame:\n",
    "!pip install openpyxl\n",
    "import pandas as pd\n",
    "df = pd.read_excel(\"C:/Users/HP/Desktop/data.xlsx\")\n",
    "print(df)"
   ]
  },
  {
   "cell_type": "code",
   "execution_count": 9,
   "id": "2a90bd86-5879-490b-9bb4-88fa9094d701",
   "metadata": {},
   "outputs": [
    {
     "name": "stdout",
     "output_type": "stream",
     "text": [
      "   Duration  Pulse  Maxpulse  Calories\n",
      "0        60    110       130       409\n",
      "1        60    117       145       479\n",
      "2        60    103       135       340\n",
      "3        45    109       175       282\n",
      "4        45    117       148       406\n",
      "5        60    102       127       300\n"
     ]
    }
   ],
   "source": [
    "#DataFrame create using dictionary\n",
    "#Load a Python Dictionary into a DataFrame:\n",
    "\n",
    "import pandas as pd\n",
    "\n",
    "data = {\n",
    "  \"Duration\":{\n",
    "    \"0\":60,\n",
    "    \"1\":60,\n",
    "    \"2\":60,\n",
    "    \"3\":45,\n",
    "    \"4\":45,\n",
    "    \"5\":60\n",
    "  },\n",
    "  \"Pulse\":{\n",
    "    \"0\":110,\n",
    "    \"1\":117,\n",
    "    \"2\":103,\n",
    "    \"3\":109,\n",
    "    \"4\":117,\n",
    "    \"5\":102\n",
    "  },\n",
    "  \"Maxpulse\":{\n",
    "    \"0\":130,\n",
    "    \"1\":145,\n",
    "    \"2\":135,\n",
    "    \"3\":175,\n",
    "    \"4\":148,\n",
    "    \"5\":127\n",
    "  },\n",
    "  \"Calories\":{\n",
    "    \"0\":409,\n",
    "    \"1\":479,\n",
    "    \"2\":340,\n",
    "    \"3\":282,\n",
    "    \"4\":406,\n",
    "    \"5\":300\n",
    "  }\n",
    "}\n",
    "\n",
    "df = pd.DataFrame(data)\n",
    "\n",
    "print(df) \n"
   ]
  },
  {
   "cell_type": "code",
   "execution_count": 4,
   "id": "f805f5d8-b3c9-4be5-b73f-499ff564516f",
   "metadata": {},
   "outputs": [
    {
     "name": "stdout",
     "output_type": "stream",
     "text": [
      "   0  1  2\n",
      "0  1  2  3\n",
      "1  4  5  6\n",
      "2  7  8  9\n"
     ]
    }
   ],
   "source": [
    "#DataFrame create using matrix\n",
    "import pandas as pd\n",
    "# Define a matrix (2-dimensional array)\n",
    "matrix = [\n",
    "    [1, 2, 3],\n",
    "    [4, 5, 6],\n",
    "    [7, 8, 9]\n",
    "]\n",
    "# Create a DataFrame from the matrix\n",
    "df = pd.DataFrame(matrix)\n",
    "# Print the DataFrame\n",
    "print(df)"
   ]
  },
  {
   "cell_type": "code",
   "execution_count": null,
   "id": "70f79494-f44e-4ad6-ba1a-0fad262b1a82",
   "metadata": {},
   "outputs": [],
   "source": []
  }
 ],
 "metadata": {
  "kernelspec": {
   "display_name": "Python 3 (ipykernel)",
   "language": "python",
   "name": "python3"
  },
  "language_info": {
   "codemirror_mode": {
    "name": "ipython",
    "version": 3
   },
   "file_extension": ".py",
   "mimetype": "text/x-python",
   "name": "python",
   "nbconvert_exporter": "python",
   "pygments_lexer": "ipython3",
   "version": "3.11.7"
  }
 },
 "nbformat": 4,
 "nbformat_minor": 5
}
