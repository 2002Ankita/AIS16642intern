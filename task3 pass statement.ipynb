{
 "cells": [
  {
   "cell_type": "code",
   "execution_count": 1,
   "id": "9f618813-096f-49d3-a351-af6c766a9a59",
   "metadata": {},
   "outputs": [],
   "source": [
    "#pass statement:\n",
    "#The pass statement is used as a placeholder for future code.\n",
    "#When 'pass' is executed ,nothing happens ,but it fulfills the requirement of the syntactical structure.\n",
    "#It is useful in situation where a statement is synthetically required but no action is needed."
   ]
  },
  {
   "cell_type": "code",
   "execution_count": 14,
   "id": "e76d755f-2b56-4e16-9f76-2a1155714e38",
   "metadata": {},
   "outputs": [
    {
     "name": "stdout",
     "output_type": "stream",
     "text": [
      "0\n",
      "1\n",
      "2\n"
     ]
    }
   ],
   "source": [
    "for i in range(10):\n",
    "    if i<5:\n",
    "        pass\n",
    "    if i<3:\n",
    "         print(i)\n",
    "\n"
   ]
  },
  {
   "cell_type": "code",
   "execution_count": 4,
   "id": "4dd531ba-e7fc-4ac5-976e-201dafcd49ec",
   "metadata": {},
   "outputs": [
    {
     "name": "stdout",
     "output_type": "stream",
     "text": [
      "36\n",
      "fail\n",
      "20\n",
      "80\n",
      "fail\n",
      "19\n"
     ]
    }
   ],
   "source": [
    "M=[36,20,80,19]\n",
    "for i in M:\n",
    "    if i<35:\n",
    "        pass\n",
    "        print(\"fail\")\n",
    "     \n",
    "    print(i)\n"
   ]
  },
  {
   "cell_type": "code",
   "execution_count": 17,
   "id": "be0c3bbf-6cd4-4b03-9663-36b65eb116b6",
   "metadata": {},
   "outputs": [
    {
     "name": "stdout",
     "output_type": "stream",
     "text": [
      "done\n"
     ]
    }
   ],
   "source": [
    "a=33\n",
    "b=200\n",
    "pass\n",
    "if b>a:\n",
    "  print(\"done\")"
   ]
  },
  {
   "cell_type": "code",
   "execution_count": 3,
   "id": "834e1178-7d8c-4833-b40a-a9b94e239423",
   "metadata": {},
   "outputs": [
    {
     "name": "stdout",
     "output_type": "stream",
     "text": [
      "36\n",
      "fail\n",
      "20\n",
      "80\n",
      "fail\n",
      "19\n"
     ]
    }
   ],
   "source": [
    "M=[36,20,80,19]\n",
    "for i in M:\n",
    "    if i<35:\n",
    "        pass\n",
    "        print(\"fail\")\n",
    "     \n",
    "    print(i)\n"
   ]
  },
  {
   "cell_type": "code",
   "execution_count": null,
   "id": "2ce76235-f0f9-4ca1-bd8c-7f410a9b717e",
   "metadata": {},
   "outputs": [],
   "source": []
  }
 ],
 "metadata": {
  "kernelspec": {
   "display_name": "Python 3 (ipykernel)",
   "language": "python",
   "name": "python3"
  },
  "language_info": {
   "codemirror_mode": {
    "name": "ipython",
    "version": 3
   },
   "file_extension": ".py",
   "mimetype": "text/x-python",
   "name": "python",
   "nbconvert_exporter": "python",
   "pygments_lexer": "ipython3",
   "version": "3.11.7"
  }
 },
 "nbformat": 4,
 "nbformat_minor": 5
}
