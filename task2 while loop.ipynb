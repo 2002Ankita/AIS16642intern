{
 "cells": [
  {
   "cell_type": "code",
   "execution_count": 11,
   "id": "b3433fe0-1578-4e6e-bc1f-798f8c1f1c52",
   "metadata": {},
   "outputs": [],
   "source": [
    "#while loop\n",
    "#With the while loop we can execute a set of statements as long as a condition is true.\n",
    "#With the break statement we can stop the loop even if the while condition is true:\n",
    "#With the continue statement we can stop the current iteration, and continue with the next:\n",
    "#syntax\n",
    "#initialization\n",
    "#while condition:\n",
    "    #stmts\n",
    "    #incre/decre"
   ]
  },
  {
   "cell_type": "code",
   "execution_count": 12,
   "id": "8bd2dd9c-86e7-47db-9024-0e053b9a8c64",
   "metadata": {},
   "outputs": [
    {
     "name": "stdout",
     "output_type": "stream",
     "text": [
      "1\n",
      "2\n",
      "3\n",
      "4\n",
      "5\n",
      "6\n",
      "7\n",
      "8\n",
      "9\n",
      "10\n"
     ]
    }
   ],
   "source": [
    "#1\n",
    "#print 1 to 10 nos\n",
    "i=1\n",
    "while i<=10:\n",
    "    print(i)\n",
    "    i=i+1\n",
    "    \n",
    "    "
   ]
  },
  {
   "cell_type": "code",
   "execution_count": 13,
   "id": "518694c9-2f6b-4eec-b460-a3afd329433a",
   "metadata": {},
   "outputs": [
    {
     "name": "stdout",
     "output_type": "stream",
     "text": [
      "sum of first 5 nos= 15\n"
     ]
    }
   ],
   "source": [
    "#2\n",
    "#sum of first 5 nos:\n",
    "s=0\n",
    "i=1\n",
    "while i<=5:\n",
    "    s=s+i\n",
    "    i=i+1\n",
    "print (\"sum of first 5 nos=\",s)    \n",
    "    "
   ]
  },
  {
   "cell_type": "code",
   "execution_count": 15,
   "id": "29c5d087-ebb6-4fc0-abd5-c404fdeb64cc",
   "metadata": {},
   "outputs": [
    {
     "name": "stdout",
     "output_type": "stream",
     "text": [
      "sum 385\n"
     ]
    }
   ],
   "source": [
    "#3\n",
    "#calculate 1+4+9+...+100\n",
    "s=0\n",
    "i=1\n",
    "while i<=10:\n",
    "    sq=i*i\n",
    "    s=s+sq\n",
    "    i=i+1\n",
    "print(\"sum\",s)    "
   ]
  },
  {
   "cell_type": "code",
   "execution_count": 16,
   "id": "6a6a6d8f-1a9d-4f4c-bb41-35622e851182",
   "metadata": {},
   "outputs": [
    {
     "name": "stdout",
     "output_type": "stream",
     "text": [
      "1\n",
      "2\n",
      "3\n"
     ]
    }
   ],
   "source": [
    "#4\n",
    "i = 1\n",
    "while i < 6:\n",
    "  print(i)\n",
    "  if i == 3:\n",
    "    break\n",
    "  i += 1\n"
   ]
  },
  {
   "cell_type": "code",
   "execution_count": 18,
   "id": "40ca371f-7020-4f5a-9900-731e8e3e3408",
   "metadata": {},
   "outputs": [
    {
     "name": "stdout",
     "output_type": "stream",
     "text": [
      "1\n",
      "2\n",
      "4\n",
      "5\n"
     ]
    }
   ],
   "source": [
    "#5\n",
    "i = 0\n",
    "while i < 5:\n",
    "  i += 1\n",
    "  if i == 3:\n",
    "    continue\n",
    "  print(i)\n"
   ]
  },
  {
   "cell_type": "code",
   "execution_count": 19,
   "id": "65992688-1e76-4f47-8d81-8f720817edf0",
   "metadata": {},
   "outputs": [
    {
     "name": "stdout",
     "output_type": "stream",
     "text": [
      "1\n",
      "2\n",
      "3\n",
      "4\n",
      "5\n",
      "6\n",
      "7\n",
      "8\n",
      "9\n",
      "i is no longer less than 10\n"
     ]
    }
   ],
   "source": [
    "#6\n",
    "i = 1\n",
    "while i < 10:\n",
    "  print(i)\n",
    "  i=i+ 1\n",
    "else:\n",
    "  print(\"i is no longer less than 10\")\n"
   ]
  },
  {
   "cell_type": "code",
   "execution_count": 20,
   "id": "854998da-9755-49f6-9bc9-bdb5e2077a63",
   "metadata": {},
   "outputs": [
    {
     "name": "stdout",
     "output_type": "stream",
     "text": [
      "0\n",
      "1\n",
      "2\n",
      "3\n",
      "4\n"
     ]
    }
   ],
   "source": [
    "#7\n",
    "count=0\n",
    "while count<5:\n",
    "    print(count)\n",
    "    count=count+1\n",
    "    "
   ]
  },
  {
   "cell_type": "code",
   "execution_count": 22,
   "id": "8d8bd949-67ce-49c5-ac8d-40551696554f",
   "metadata": {},
   "outputs": [
    {
     "name": "stdout",
     "output_type": "stream",
     "text": [
      "sum of digits 14\n"
     ]
    }
   ],
   "source": [
    "#8#sum of  digit\n",
    "n=347\n",
    "sum=0\n",
    "while n>0:\n",
    "    d=n%10\n",
    "    sum=sum+d\n",
    "    n=n//10\n",
    "print(\"sum of digits\",sum)    \n",
    "    \n",
    "    "
   ]
  },
  {
   "cell_type": "code",
   "execution_count": 23,
   "id": "4df136e8-6dbf-4de1-9da4-27be06713e07",
   "metadata": {},
   "outputs": [
    {
     "name": "stdin",
     "output_type": "stream",
     "text": [
      "enter a number 121\n"
     ]
    },
    {
     "name": "stdout",
     "output_type": "stream",
     "text": [
      "given no is palindrome\n"
     ]
    }
   ],
   "source": [
    "#9\n",
    "#check palindrome or not\n",
    "n=int(input(\"enter a number\"))\n",
    "sum=0\n",
    "temp=n\n",
    "while n>0:\n",
    "    d=n%10\n",
    "    sum=sum*10+d\n",
    "    n=n//10\n",
    "if(sum==temp):\n",
    "    print(\"given no is palindrome\")\n",
    "else:\n",
    "    print(\"given no is not palindrome\")\n",
    "    \n",
    "    "
   ]
  },
  {
   "cell_type": "code",
   "execution_count": 24,
   "id": "733734b7-d75c-4d89-ab5d-6a688653da1d",
   "metadata": {},
   "outputs": [
    {
     "name": "stdin",
     "output_type": "stream",
     "text": [
      "enter a number 153\n"
     ]
    },
    {
     "name": "stdout",
     "output_type": "stream",
     "text": [
      "given no is armstrong\n"
     ]
    }
   ],
   "source": [
    "#10\n",
    "#check armstrong or not\n",
    "n=int(input(\"enter a number\"))\n",
    "sum=0\n",
    "temp=n\n",
    "while n>0:\n",
    "    d=n%10\n",
    "    sum=sum+d**3\n",
    "    n=n//10\n",
    "if(sum==temp):\n",
    "    print(\"given no is armstrong\")\n",
    "else:\n",
    "    print(\"given no is not armstrong\")"
   ]
  },
  {
   "cell_type": "code",
   "execution_count": null,
   "id": "632c1b78-88b2-4c8e-bd47-c83257d4f0c8",
   "metadata": {},
   "outputs": [],
   "source": []
  }
 ],
 "metadata": {
  "kernelspec": {
   "display_name": "Python 3 (ipykernel)",
   "language": "python",
   "name": "python3"
  },
  "language_info": {
   "codemirror_mode": {
    "name": "ipython",
    "version": 3
   },
   "file_extension": ".py",
   "mimetype": "text/x-python",
   "name": "python",
   "nbconvert_exporter": "python",
   "pygments_lexer": "ipython3",
   "version": "3.11.7"
  }
 },
 "nbformat": 4,
 "nbformat_minor": 5
}
