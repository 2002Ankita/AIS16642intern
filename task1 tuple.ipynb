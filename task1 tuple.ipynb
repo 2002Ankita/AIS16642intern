{
 "cells": [
  {
   "cell_type": "code",
   "execution_count": 4,
   "id": "39ffb258-4c97-4005-98fe-81129866cb25",
   "metadata": {},
   "outputs": [
    {
     "name": "stdout",
     "output_type": "stream",
     "text": [
      "('apple', 'banana', 'cherry')\n"
     ]
    }
   ],
   "source": [
    "#Tuple\n",
    "#Tuples are used to store multiple items in a single variable.\n",
    "#Tuple is one of 4 built-in data types in Python used to store collections of data, the other 3 are List, Set, and Dictionary, all with different qualities and usage.\n",
    "#A tuple is a collection which is ordered and unchangeable.\n",
    "#Tuples are written with round brackets.\n",
    "tuple = (\"apple\", \"banana\", \"cherry\")\n",
    "print(tuple)"
   ]
  },
  {
   "cell_type": "code",
   "execution_count": 2,
   "id": "774f033d-e6ad-46e0-a01d-b7685e798abd",
   "metadata": {},
   "outputs": [
    {
     "name": "stdout",
     "output_type": "stream",
     "text": [
      "('apple', 'banana', 'cherry', 'apple', 'cherry')\n"
     ]
    }
   ],
   "source": [
    "#Tuple Items\n",
    "#Tuple items are ordered, unchangeable, and allow duplicate values.\n",
    "#Tuple items are indexed, the first item has index [0], the second item has index [1] etc.\n",
    "#Ordered\n",
    "#Unchangeable\n",
    "#Tuples are unchangeable, meaning that we cannot change, add or remove items after the tuple has been created.\n",
    "#Allow Duplicates\n",
    "#Since tuples are indexed, they can have items with the same value:\n",
    "thistuple = (\"apple\", \"banana\", \"cherry\", \"apple\", \"cherry\")\n",
    "print(thistuple)\n"
   ]
  },
  {
   "cell_type": "code",
   "execution_count": 5,
   "id": "7473cb63-1d56-44b6-8b78-6f92f91a8106",
   "metadata": {},
   "outputs": [
    {
     "name": "stdout",
     "output_type": "stream",
     "text": [
      "3\n"
     ]
    }
   ],
   "source": [
    "#Tuple Length\n",
    "#To determine how many items a tuple has, use the len() function:\n",
    "#Print the number of items in the tuple:\n",
    "thistuple = (\"apple\", \"banana\", \"cherry\")\n",
    "print(len(thistuple))"
   ]
  },
  {
   "cell_type": "code",
   "execution_count": 7,
   "id": "0d0b4222-d798-49da-9fc1-6e560ef54d9f",
   "metadata": {},
   "outputs": [
    {
     "name": "stdout",
     "output_type": "stream",
     "text": [
      "<class 'tuple'>\n",
      "<class 'str'>\n"
     ]
    }
   ],
   "source": [
    "#Create Tuple With One Item\n",
    "#To create a tuple with only one item, you have to add a comma after the item, otherwise Python will not recognize it as a tuple.\n",
    "#Example\n",
    "#One item tuple, remember the comma:\n",
    "thistuple = (\"apple\",)\n",
    "print(type(thistuple))\n",
    "#NOT a tuple\n",
    "thistuple = (\"apple\")\n",
    "print(type(thistuple))"
   ]
  },
  {
   "cell_type": "code",
   "execution_count": 17,
   "id": "eff5d33a-666c-417d-8caa-a6adfc8d4bbd",
   "metadata": {},
   "outputs": [
    {
     "data": {
      "text/plain": [
       "1"
      ]
     },
     "execution_count": 17,
     "metadata": {},
     "output_type": "execute_result"
    }
   ],
   "source": [
    "t=(\"a\",\"b\",\"c\",\"d\")\n",
    "t.index(\"b\")\n"
   ]
  },
  {
   "cell_type": "code",
   "execution_count": 25,
   "id": "10e02d60-ee4f-4be5-b0b5-1e29b7ca43d8",
   "metadata": {},
   "outputs": [
    {
     "data": {
      "text/plain": [
       "tuple"
      ]
     },
     "execution_count": 25,
     "metadata": {},
     "output_type": "execute_result"
    }
   ],
   "source": [
    "t1=(\"apple\",\"banana\",\"cap\")\n",
    "type(t1)"
   ]
  },
  {
   "cell_type": "code",
   "execution_count": 7,
   "id": "cb9fcb72-481c-4884-80f9-cd9ff545daff",
   "metadata": {},
   "outputs": [
    {
     "data": {
      "text/plain": [
       "1"
      ]
     },
     "execution_count": 7,
     "metadata": {},
     "output_type": "execute_result"
    }
   ],
   "source": [
    "t2=(\"a\",\"b\",\"c\")\n",
    "t2.count(\"c\")"
   ]
  },
  {
   "cell_type": "code",
   "execution_count": 9,
   "id": "e38fb886-4437-446c-a53b-699b5cc0b076",
   "metadata": {},
   "outputs": [
    {
     "name": "stdout",
     "output_type": "stream",
     "text": [
      "('pen', 'pencil')\n"
     ]
    }
   ],
   "source": [
    "a=(\"pen\",\"pencil\",\"scale\")\n",
    "print(a[0:2])\n"
   ]
  },
  {
   "cell_type": "code",
   "execution_count": 10,
   "id": "369f4711-db75-44b9-ae8e-656a00d849c8",
   "metadata": {},
   "outputs": [
    {
     "name": "stdout",
     "output_type": "stream",
     "text": [
      "('pen', 'pencil', 'scale', 'pen', 'pencil', 'scale')\n"
     ]
    }
   ],
   "source": [
    "print(a*2)"
   ]
  },
  {
   "cell_type": "code",
   "execution_count": 12,
   "id": "684f7fcc-9430-4f5d-b48f-e15931ab1126",
   "metadata": {},
   "outputs": [
    {
     "name": "stdout",
     "output_type": "stream",
     "text": [
      "present\n"
     ]
    }
   ],
   "source": [
    "if \"pen\" in a:\n",
    "    print(\"present\")\n",
    "else:\n",
    "    print(\"not present\")"
   ]
  },
  {
   "cell_type": "code",
   "execution_count": null,
   "id": "ee531768-579a-4460-9149-6f7c84654a11",
   "metadata": {},
   "outputs": [],
   "source": []
  }
 ],
 "metadata": {
  "kernelspec": {
   "display_name": "Python 3 (ipykernel)",
   "language": "python",
   "name": "python3"
  },
  "language_info": {
   "codemirror_mode": {
    "name": "ipython",
    "version": 3
   },
   "file_extension": ".py",
   "mimetype": "text/x-python",
   "name": "python",
   "nbconvert_exporter": "python",
   "pygments_lexer": "ipython3",
   "version": "3.11.7"
  }
 },
 "nbformat": 4,
 "nbformat_minor": 5
}
