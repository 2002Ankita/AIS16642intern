{
 "cells": [
  {
   "cell_type": "code",
   "execution_count": 4,
   "id": "89c8be1f-9de8-48ca-ba4f-73acc94dfbcf",
   "metadata": {},
   "outputs": [
    {
     "name": "stdout",
     "output_type": "stream",
     "text": [
      "Checking for missing values:\n",
      "       A      B      C\n",
      "0  False  False   True\n",
      "1  False   True  False\n",
      "2   True  False  False\n",
      "3  False  False  False\n"
     ]
    }
   ],
   "source": [
    "import pandas as pd\n",
    "# Creating a sample DataFrame with missing values\n",
    "data = {'A': [1, 2, None, 4],\n",
    "        'B': [5, None, 7, 8],\n",
    "        'C': [None, 10, 11, 12]}\n",
    "df = pd.DataFrame(data)\n",
    "# Check for missing values\n",
    "print(\"Checking for missing values:\")\n",
    "print(df.isnull())\n"
   ]
  },
  {
   "cell_type": "code",
   "execution_count": 5,
   "id": "ebb833f5-3ed2-4ffc-bd58-339548ccce7c",
   "metadata": {},
   "outputs": [
    {
     "name": "stdout",
     "output_type": "stream",
     "text": [
      "\n",
      "Dropping rows with missing values:\n",
      "     A    B     C\n",
      "3  4.0  8.0  12.0\n"
     ]
    }
   ],
   "source": [
    "# Drop rows with missing values\n",
    "print(\"\\nDropping rows with missing values:\")\n",
    "df_drop_row = df.dropna(axis=0)\n",
    "print(df_drop_row)"
   ]
  },
  {
   "cell_type": "code",
   "execution_count": 6,
   "id": "15b40c9d-c3f5-4e7f-be8b-15742dee617b",
   "metadata": {},
   "outputs": [
    {
     "name": "stdout",
     "output_type": "stream",
     "text": [
      "\n",
      "Dropping columns with missing values:\n",
      "Empty DataFrame\n",
      "Columns: []\n",
      "Index: [0, 1, 2, 3]\n"
     ]
    }
   ],
   "source": [
    "# Drop columns with missing values\n",
    "print(\"\\nDropping columns with missing values:\")\n",
    "df_drop_col = df.dropna(axis=1)\n",
    "print(df_drop_col)\n"
   ]
  },
  {
   "cell_type": "code",
   "execution_count": 7,
   "id": "5cd54300-75a6-4c31-9b8b-25cc2045dff2",
   "metadata": {},
   "outputs": [
    {
     "name": "stdout",
     "output_type": "stream",
     "text": [
      "\n",
      "Filling missing values with mean:\n",
      "          A         B     C\n",
      "0  1.000000  5.000000  11.0\n",
      "1  2.000000  6.666667  10.0\n",
      "2  2.333333  7.000000  11.0\n",
      "3  4.000000  8.000000  12.0\n"
     ]
    }
   ],
   "source": [
    "# Fill missing values with mean\n",
    "print(\"\\nFilling missing values with mean:\")\n",
    "df_fill_mean = df.fillna(df.mean())\n",
    "print(df_fill_mean)"
   ]
  },
  {
   "cell_type": "code",
   "execution_count": 8,
   "id": "3cf03e45-9baa-4787-8bfa-9bb6c4cbbc87",
   "metadata": {},
   "outputs": [
    {
     "name": "stdout",
     "output_type": "stream",
     "text": [
      "\n",
      "Filling missing values with median:\n",
      "     A    B     C\n",
      "0  1.0  5.0  11.0\n",
      "1  2.0  7.0  10.0\n",
      "2  2.0  7.0  11.0\n",
      "3  4.0  8.0  12.0\n"
     ]
    }
   ],
   "source": [
    "# Fill missing values with median\n",
    "print(\"\\nFilling missing values with median:\")\n",
    "df_fill_median = df.fillna(df.median())\n",
    "print(df_fill_median)"
   ]
  },
  {
   "cell_type": "code",
   "execution_count": null,
   "id": "e009df99-bfa3-4aae-8660-3cf0be0ce6f6",
   "metadata": {},
   "outputs": [],
   "source": []
  }
 ],
 "metadata": {
  "kernelspec": {
   "display_name": "Python 3 (ipykernel)",
   "language": "python",
   "name": "python3"
  },
  "language_info": {
   "codemirror_mode": {
    "name": "ipython",
    "version": 3
   },
   "file_extension": ".py",
   "mimetype": "text/x-python",
   "name": "python",
   "nbconvert_exporter": "python",
   "pygments_lexer": "ipython3",
   "version": "3.11.7"
  }
 },
 "nbformat": 4,
 "nbformat_minor": 5
}
